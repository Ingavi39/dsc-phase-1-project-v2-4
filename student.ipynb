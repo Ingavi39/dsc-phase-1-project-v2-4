{
 "cells": [
  {
   "cell_type": "markdown",
   "metadata": {},
   "source": [
    "## Final Project Submission\n",
    "\n",
    "Please fill out:\n",
    "* Student name: Ingavi Kilavuka\n",
    "* Student pace: full time\n",
    "* Scheduled project review date/time:\n",
    "* Instructor name: Mwikali \n",
    "* Blog post URL:\n"
   ]
  },
  {
   "cell_type": "markdown",
   "metadata": {},
   "source": [
    "## Overview  \n",
    "\n"
   ]
  },
  {
   "cell_type": "markdown",
   "metadata": {},
   "source": [
    "## Business Understanding\n",
    "Microsoft would like to move into the movie industry as they can see other companies thriving. \n",
    "They are in need of assitance to know what type of movies do well at the box office.\n",
    "\n"
   ]
  },
  {
   "cell_type": "markdown",
   "metadata": {},
   "source": [
    "## Data Understanding\n"
   ]
  },
  {
   "cell_type": "code",
   "execution_count": 2,
   "metadata": {},
   "outputs": [],
   "source": [
    "#importing neccessary libraries\n",
    "import pandas as pd\n",
    "import numpy as np\n",
    "import matplotlib.pyplot as plt\n",
    "import seaborn as sns \n",
    "import sqlite3\n",
    "\n",
    "%matplotlib inline "
   ]
  },
  {
   "cell_type": "code",
   "execution_count": 40,
   "metadata": {},
   "outputs": [],
   "source": [
    "# Import CSV files\n",
    "Bom_movies = pd.read_csv(r\"C:\\Users\\HomePC\\Documents\\Flatiron\\course_materials\\Phase_01\\dsc-phase-1-project-v2-4\\zippedData\\bom.movie_gross.csv.gz\")\n",
    "movie_info = pd.read_csv(r\"C:\\Users\\HomePC\\Documents\\Flatiron\\course_materials\\Phase_01\\dsc-phase-1-project-v2-4\\zippedData\\rt.movie_info.tsv.gz\", sep='\\t')\n",
    "TMDB_movies = pd.read_csv(r\"C:\\Users\\HomePC\\Documents\\Flatiron\\course_materials\\Phase_01\\dsc-phase-1-project-v2-4\\zippedData\\tmdb.movies.csv.gz\")\n",
    "movie_budgets = pd.read_csv(r\"C:\\Users\\HomePC\\Documents\\Flatiron\\course_materials\\Phase_01\\dsc-phase-1-project-v2-4\\zippedData\\tn.movie_budgets.csv.gz\")"
   ]
  },
  {
   "cell_type": "code",
   "execution_count": 57,
   "metadata": {},
   "outputs": [],
   "source": [
    "# Imported the IMDB file from sqlite database\n",
    "\n",
    "# imdb_data = sqlite3.connect(r\"C:\\Users\\HomePC\\Documents\\Flatiron\\course_materials\\Phase_01\\dsc-phase-1-project-v2-4\\zippedData\\im.db.zip\")\n",
    "# movie_basics_df = pd.read_sql_query(\"SELECT * FROM movie_basics\", imdb_data)\n",
    "# movie_ratings_df = pd.read_sql_query(\"SELECT * FROM movie_ratings\", imdb_data)"
   ]
  },
  {
   "cell_type": "markdown",
   "metadata": {},
   "source": []
  },
  {
   "cell_type": "markdown",
   "metadata": {},
   "source": [
    "### In this next section, \n",
    "I wanted to pick the two datasets that had the largest size as they have highest statistical power. These data sets will be more reliable as they are a better reflector of the reality of the movie industry. * add notes on info"
   ]
  },
  {
   "cell_type": "code",
   "execution_count": 56,
   "metadata": {},
   "outputs": [
    {
     "name": "stdout",
     "output_type": "stream",
     "text": [
      "Number of rows: 3387\n",
      "Number of columns: 5\n",
      "All elements: 16935\n",
      "Data information: <bound method DataFrame.info of                                             title      studio  domestic_gross  \\\n",
      "0                                     Toy Story 3          BV     415000000.0   \n",
      "1                      Alice in Wonderland (2010)          BV     334200000.0   \n",
      "2     Harry Potter and the Deathly Hallows Part 1          WB     296000000.0   \n",
      "3                                       Inception          WB     292600000.0   \n",
      "4                             Shrek Forever After        P/DW     238700000.0   \n",
      "...                                           ...         ...             ...   \n",
      "3382                                    The Quake       Magn.          6200.0   \n",
      "3383                  Edward II (2018 re-release)          FM          4800.0   \n",
      "3384                                     El Pacto        Sony          2500.0   \n",
      "3385                                     The Swan  Synergetic          2400.0   \n",
      "3386                            An Actor Prepares       Grav.          1700.0   \n",
      "\n",
      "     foreign_gross  year  \n",
      "0        652000000  2010  \n",
      "1        691300000  2010  \n",
      "2        664300000  2010  \n",
      "3        535700000  2010  \n",
      "4        513900000  2010  \n",
      "...            ...   ...  \n",
      "3382           NaN  2018  \n",
      "3383           NaN  2018  \n",
      "3384           NaN  2018  \n",
      "3385           NaN  2018  \n",
      "3386           NaN  2018  \n",
      "\n",
      "[3387 rows x 5 columns]>\n"
     ]
    }
   ],
   "source": [
    "# Getting the size of of Bom movies data \n",
    "Bom_movies = pd.read_csv(r\"C:\\Users\\HomePC\\Documents\\Flatiron\\course_materials\\Phase_01\\dsc-phase-1-project-v2-4\\zippedData\\bom.movie_gross.csv.gz\")\n",
    "\n",
    "num_rows, num_columns = bom_movies.shape\n",
    "print(\"Number of rows:\", num_rows)\n",
    "print(\"Number of columns:\", num_columns)\n",
    "\n",
    "#To mulptiply both rows and columns to gauge an understand of how many elements we are dealing with\n",
    "\n",
    "Multiplied_elements = num_rows * num_columns\n",
    "print(\"All elements:\", Multiplied_elements)\n",
    "print(\"Data information:\", bom_movies.info) \n"
   ]
  },
  {
   "cell_type": "code",
   "execution_count": 55,
   "metadata": {},
   "outputs": [
    {
     "name": "stdout",
     "output_type": "stream",
     "text": [
      "Number of rows: 26517\n",
      "Number of columns: 10\n",
      "All elements: 265170\n",
      "Data information: <bound method DataFrame.info of        Unnamed: 0            genre_ids      id original_language  \\\n",
      "0               0      [12, 14, 10751]   12444                en   \n",
      "1               1  [14, 12, 16, 10751]   10191                en   \n",
      "2               2        [12, 28, 878]   10138                en   \n",
      "3               3      [16, 35, 10751]     862                en   \n",
      "4               4        [28, 878, 12]   27205                en   \n",
      "...           ...                  ...     ...               ...   \n",
      "26512       26512             [27, 18]  488143                en   \n",
      "26513       26513             [18, 53]  485975                en   \n",
      "26514       26514         [14, 28, 12]  381231                en   \n",
      "26515       26515      [10751, 12, 28]  366854                en   \n",
      "26516       26516             [53, 27]  309885                en   \n",
      "\n",
      "                                     original_title  popularity release_date  \\\n",
      "0      Harry Potter and the Deathly Hallows: Part 1      33.533   2010-11-19   \n",
      "1                          How to Train Your Dragon      28.734   2010-03-26   \n",
      "2                                        Iron Man 2      28.515   2010-05-07   \n",
      "3                                         Toy Story      28.005   1995-11-22   \n",
      "4                                         Inception      27.920   2010-07-16   \n",
      "...                                             ...         ...          ...   \n",
      "26512                         Laboratory Conditions       0.600   2018-10-13   \n",
      "26513                               _EXHIBIT_84xxx_       0.600   2018-05-01   \n",
      "26514                                  The Last One       0.600   2018-10-01   \n",
      "26515                                  Trailer Made       0.600   2018-06-22   \n",
      "26516                                    The Church       0.600   2018-10-05   \n",
      "\n",
      "                                              title  vote_average  vote_count  \n",
      "0      Harry Potter and the Deathly Hallows: Part 1           7.7       10788  \n",
      "1                          How to Train Your Dragon           7.7        7610  \n",
      "2                                        Iron Man 2           6.8       12368  \n",
      "3                                         Toy Story           7.9       10174  \n",
      "4                                         Inception           8.3       22186  \n",
      "...                                             ...           ...         ...  \n",
      "26512                         Laboratory Conditions           0.0           1  \n",
      "26513                               _EXHIBIT_84xxx_           0.0           1  \n",
      "26514                                  The Last One           0.0           1  \n",
      "26515                                  Trailer Made           0.0           1  \n",
      "26516                                    The Church           0.0           1  \n",
      "\n",
      "[26517 rows x 10 columns]>\n"
     ]
    }
   ],
   "source": [
    "# Getting the size of of TMDB movies data \n",
    "TMDB_movies = pd.read_csv(r\"C:\\Users\\HomePC\\Documents\\Flatiron\\course_materials\\Phase_01\\dsc-phase-1-project-v2-4\\zippedData\\tmdb.movies.csv.gz\")\n",
    "\n",
    "num_rows, num_columns = TMDB_movies.shape\n",
    "print(\"Number of rows:\", num_rows)\n",
    "print(\"Number of columns:\", num_columns)\n",
    "\n",
    "#To mulptiply both rows and columns to gauge an understand of how many elements we are dealing with\n",
    "\n",
    "Multiplied_elements = num_rows * num_columns\n",
    "print(\"All elements:\", Multiplied_elements) \n",
    "print(\"Data information:\", TMDB_movies.info)"
   ]
  },
  {
   "cell_type": "code",
   "execution_count": 53,
   "metadata": {},
   "outputs": [
    {
     "name": "stdout",
     "output_type": "stream",
     "text": [
      "Number of rows: 1560\n",
      "Number of columns: 12\n",
      "All elements: 18720\n",
      "Data information: <bound method DataFrame.info of         id                                           synopsis rating  \\\n",
      "0        1  This gritty, fast-paced, and innovative police...      R   \n",
      "1        3  New York City, not-too-distant-future: Eric Pa...      R   \n",
      "2        5  Illeana Douglas delivers a superb performance ...      R   \n",
      "3        6  Michael Douglas runs afoul of a treacherous su...      R   \n",
      "4        7                                                NaN     NR   \n",
      "...    ...                                                ...    ...   \n",
      "1555  1996  Forget terrorists or hijackers -- there's a ha...      R   \n",
      "1556  1997  The popular Saturday Night Live sketch was exp...     PG   \n",
      "1557  1998  Based on a novel by Richard Powell, when the l...      G   \n",
      "1558  1999  The Sandlot is a coming-of-age story about a g...     PG   \n",
      "1559  2000  Suspended from the force, Paris cop Hubert is ...      R   \n",
      "\n",
      "                                                  genre            director  \\\n",
      "0                   Action and Adventure|Classics|Drama    William Friedkin   \n",
      "1                     Drama|Science Fiction and Fantasy    David Cronenberg   \n",
      "2                     Drama|Musical and Performing Arts      Allison Anders   \n",
      "3                            Drama|Mystery and Suspense      Barry Levinson   \n",
      "4                                         Drama|Romance      Rodney Bennett   \n",
      "...                                                 ...                 ...   \n",
      "1555   Action and Adventure|Horror|Mystery and Suspense                 NaN   \n",
      "1556                 Comedy|Science Fiction and Fantasy        Steve Barron   \n",
      "1557  Classics|Comedy|Drama|Musical and Performing Arts      Gordon Douglas   \n",
      "1558    Comedy|Drama|Kids and Family|Sports and Fitness  David Mickey Evans   \n",
      "1559  Action and Adventure|Art House and Internation...                 NaN   \n",
      "\n",
      "                                                writer  theater_date  \\\n",
      "0                                       Ernest Tidyman   Oct 9, 1971   \n",
      "1                         David Cronenberg|Don DeLillo  Aug 17, 2012   \n",
      "2                                       Allison Anders  Sep 13, 1996   \n",
      "3                      Paul Attanasio|Michael Crichton   Dec 9, 1994   \n",
      "4                                         Giles Cooper           NaN   \n",
      "...                                                ...           ...   \n",
      "1555                                               NaN  Aug 18, 2006   \n",
      "1556  Terry Turner|Tom Davis|Dan Aykroyd|Bonnie Turner  Jul 23, 1993   \n",
      "1557                                               NaN   Jan 1, 1962   \n",
      "1558                  David Mickey Evans|Robert Gunter   Apr 1, 1993   \n",
      "1559                                        Luc Besson  Sep 27, 2001   \n",
      "\n",
      "          dvd_date currency  box_office      runtime             studio  \n",
      "0     Sep 25, 2001      NaN         NaN  104 minutes                NaN  \n",
      "1      Jan 1, 2013        $     600,000  108 minutes  Entertainment One  \n",
      "2     Apr 18, 2000      NaN         NaN  116 minutes                NaN  \n",
      "3     Aug 27, 1997      NaN         NaN  128 minutes                NaN  \n",
      "4              NaN      NaN         NaN  200 minutes                NaN  \n",
      "...            ...      ...         ...          ...                ...  \n",
      "1555   Jan 2, 2007        $  33,886,034  106 minutes    New Line Cinema  \n",
      "1556  Apr 17, 2001      NaN         NaN   88 minutes  Paramount Vantage  \n",
      "1557  May 11, 2004      NaN         NaN  111 minutes                NaN  \n",
      "1558  Jan 29, 2002      NaN         NaN  101 minutes                NaN  \n",
      "1559  Feb 11, 2003      NaN         NaN   94 minutes  Columbia Pictures  \n",
      "\n",
      "[1560 rows x 12 columns]>\n"
     ]
    }
   ],
   "source": [
    "# Getting the size of of movie_info data \n",
    "movie_info = pd.read_csv(r\"C:\\Users\\HomePC\\Documents\\Flatiron\\course_materials\\Phase_01\\dsc-phase-1-project-v2-4\\zippedData\\rt.movie_info.tsv.gz\", sep='\\t')\n",
    "\n",
    "num_rows, num_columns = movie_info.shape\n",
    "print(\"Number of rows:\", num_rows)\n",
    "print(\"Number of columns:\", num_columns)\n",
    "\n",
    "#To mulptiply both rows and columns to gauge an understand of how many elements we are dealing with\n",
    "\n",
    "Multiplied_elements = num_rows * num_columns\n",
    "print(\"All elements:\", Multiplied_elements) \n",
    "print(\"Data information:\", movie_info.info)"
   ]
  },
  {
   "cell_type": "code",
   "execution_count": 52,
   "metadata": {},
   "outputs": [
    {
     "name": "stdout",
     "output_type": "stream",
     "text": [
      "Number of rows: 5782\n",
      "Number of columns: 6\n",
      "All elements: 34692\n",
      "Data information: <bound method DataFrame.info of       id  release_date                                        movie  \\\n",
      "0      1  Dec 18, 2009                                       Avatar   \n",
      "1      2  May 20, 2011  Pirates of the Caribbean: On Stranger Tides   \n",
      "2      3   Jun 7, 2019                                 Dark Phoenix   \n",
      "3      4   May 1, 2015                      Avengers: Age of Ultron   \n",
      "4      5  Dec 15, 2017            Star Wars Ep. VIII: The Last Jedi   \n",
      "...   ..           ...                                          ...   \n",
      "5777  78  Dec 31, 2018                                       Red 11   \n",
      "5778  79   Apr 2, 1999                                    Following   \n",
      "5779  80  Jul 13, 2005                Return to the Land of Wonders   \n",
      "5780  81  Sep 29, 2015                         A Plague So Pleasant   \n",
      "5781  82   Aug 5, 2005                            My Date With Drew   \n",
      "\n",
      "     production_budget domestic_gross worldwide_gross  \n",
      "0         $425,000,000   $760,507,625  $2,776,345,279  \n",
      "1         $410,600,000   $241,063,875  $1,045,663,875  \n",
      "2         $350,000,000    $42,762,350    $149,762,350  \n",
      "3         $330,600,000   $459,005,868  $1,403,013,963  \n",
      "4         $317,000,000   $620,181,382  $1,316,721,747  \n",
      "...                ...            ...             ...  \n",
      "5777            $7,000             $0              $0  \n",
      "5778            $6,000        $48,482        $240,495  \n",
      "5779            $5,000         $1,338          $1,338  \n",
      "5780            $1,400             $0              $0  \n",
      "5781            $1,100       $181,041        $181,041  \n",
      "\n",
      "[5782 rows x 6 columns]>\n"
     ]
    }
   ],
   "source": [
    "# Getting the size of of movie_budgets data \n",
    "movie_budgets = pd.read_csv(r\"C:\\Users\\HomePC\\Documents\\Flatiron\\course_materials\\Phase_01\\dsc-phase-1-project-v2-4\\zippedData\\tn.movie_budgets.csv.gz\")\n",
    "\n",
    "num_rows, num_columns = movie_budgets.shape\n",
    "print(\"Number of rows:\", num_rows)\n",
    "print(\"Number of columns:\", num_columns)\n",
    "\n",
    "#To mulptiply both rows and columns to gauge an understand of how many elements we are dealing with\n",
    "\n",
    "Multiplied_elements = num_rows * num_columns\n",
    "print(\"All elements:\", Multiplied_elements) \n",
    "print(\"Data information:\", movie_budgets.info)"
   ]
  },
  {
   "cell_type": "code",
   "execution_count": null,
   "metadata": {},
   "outputs": [],
   "source": [
    "*EXPLAINATION ON HOW THE TOP IS QUANTITATIVE AND THE BOTTOM IS QUALITATIVE, the bottom is an explnation on what you column \n"
   ]
  },
  {
   "cell_type": "code",
   "execution_count": 58,
   "metadata": {},
   "outputs": [
    {
     "name": "stdout",
     "output_type": "stream",
     "text": [
      "Columns_for_movies_budget: Index(['id', 'release_date', 'movie', 'production_budget', 'domestic_gross',\n",
      "       'worldwide_gross'],\n",
      "      dtype='object')\n",
      "Columns_for_Bom_movies: Index(['title', 'studio', 'domestic_gross', 'foreign_gross', 'year'], dtype='object')\n",
      "Columns_for_movie_info: Index(['id', 'synopsis', 'rating', 'genre', 'director', 'writer',\n",
      "       'theater_date', 'dvd_date', 'currency', 'box_office', 'runtime',\n",
      "       'studio'],\n",
      "      dtype='object')\n",
      "Columns_for_TMDB: Index(['Unnamed: 0', 'genre_ids', 'id', 'original_language', 'original_title',\n",
      "       'popularity', 'release_date', 'title', 'vote_average', 'vote_count'],\n",
      "      dtype='object')\n"
     ]
    }
   ],
   "source": [
    "#COLUMN DESCRIPTIONS\n",
    "print('Columns_for_movies_budget:', movie_budgets.columns) \n",
    "print('Columns_for_Bom_movies:', Bom_movies.columns) \n",
    "print('Columns_for_movie_info:', movie_info.columns) \n",
    "print('Columns_for_TMDB:', TMDB_movies.columns)"
   ]
  },
  {
   "cell_type": "code",
   "execution_count": null,
   "metadata": {},
   "outputs": [],
   "source": []
  },
  {
   "cell_type": "markdown",
   "metadata": {},
   "source": [
    "Since what we are looking for needs to help us find the ROI we need a dataset with the budget, a dataset with the gross and a dataset(s) with the genre(to see which genre sells best), studio(Which studio to emulate) and runtime(How long the highest grossing are). The best data sets to use will be\n",
    "- Movie_budget as it gives use both domestic and worldwide gross, as well as the movie budget\n",
    "- Movies_info as it gives use the runtime of the movies as well as the genre\n",
    "- Bom_movies can be used to confirm that all the data is reliable (through cross checking) "
   ]
  },
  {
   "cell_type": "markdown",
   "metadata": {},
   "source": [
    "DESCRIBE THE LIMITATIONS OF THE DATA"
   ]
  },
  {
   "cell_type": "markdown",
   "metadata": {},
   "source": [
    "Data Analysis\n"
   ]
  },
  {
   "cell_type": "markdown",
   "metadata": {},
   "source": [
    "Visualization"
   ]
  },
  {
   "cell_type": "code",
   "execution_count": null,
   "metadata": {},
   "outputs": [],
   "source": [
    "# Your code here - remember to use markdown cells for comments as well!"
   ]
  }
 ],
 "metadata": {
  "kernelspec": {
   "display_name": "Python (learn-env)",
   "language": "python",
   "name": "learn-env"
  },
  "language_info": {
   "codemirror_mode": {
    "name": "ipython",
    "version": 3
   },
   "file_extension": ".py",
   "mimetype": "text/x-python",
   "name": "python",
   "nbconvert_exporter": "python",
   "pygments_lexer": "ipython3",
   "version": "3.8.5"
  }
 },
 "nbformat": 4,
 "nbformat_minor": 2
}
