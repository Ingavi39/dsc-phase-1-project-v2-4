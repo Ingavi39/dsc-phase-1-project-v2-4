{
 "cells": [
  {
   "cell_type": "markdown",
   "metadata": {},
   "source": [
    "## Final Project Submission\n",
    "\n",
    "Please fill out:\n",
    "* Student name: Ingavi Kilavuka\n",
    "* Student pace: full time\n",
    "* Scheduled project review date/time:\n",
    "* Instructor name: Mwikali \n",
    "* Blog post URL:\n"
   ]
  },
  {
   "cell_type": "markdown",
   "metadata": {},
   "source": [
    "## Overview  \n",
    "\n"
   ]
  },
  {
   "cell_type": "markdown",
   "metadata": {},
   "source": [
    "## Business Understanding\n",
    "Microsoft would like to move into the movie industry as they can see other companies thriving. \n",
    "They are in need of assitance to know what type of movies do well at the box office.\n",
    "\n"
   ]
  },
  {
   "cell_type": "markdown",
   "metadata": {},
   "source": [
    "## Data Understanding\n"
   ]
  },
  {
   "cell_type": "code",
   "execution_count": 2,
   "metadata": {},
   "outputs": [],
   "source": [
    "#importing neccessary libraries\n",
    "import pandas as pd\n",
    "import numpy as np\n",
    "import matplotlib.pyplot as plt\n",
    "import seaborn as sns \n",
    "import sqlite3\n",
    "\n",
    "%matplotlib inline "
   ]
  },
  {
   "cell_type": "code",
   "execution_count": 40,
   "metadata": {},
   "outputs": [],
   "source": [
    "# Import CSV files\n",
    "Bom_movies = pd.read_csv(r\"C:\\Users\\HomePC\\Documents\\Flatiron\\course_materials\\Phase_01\\dsc-phase-1-project-v2-4\\zippedData\\bom.movie_gross.csv.gz\")\n",
    "movie_info = pd.read_csv(r\"C:\\Users\\HomePC\\Documents\\Flatiron\\course_materials\\Phase_01\\dsc-phase-1-project-v2-4\\zippedData\\rt.movie_info.tsv.gz\", sep='\\t')\n",
    "TMDB_movies = pd.read_csv(r\"C:\\Users\\HomePC\\Documents\\Flatiron\\course_materials\\Phase_01\\dsc-phase-1-project-v2-4\\zippedData\\tmdb.movies.csv.gz\")\n",
    "movie_budgets = pd.read_csv(r\"C:\\Users\\HomePC\\Documents\\Flatiron\\course_materials\\Phase_01\\dsc-phase-1-project-v2-4\\zippedData\\tn.movie_budgets.csv.gz\")"
   ]
  },
  {
   "cell_type": "code",
   "execution_count": 7,
   "metadata": {},
   "outputs": [],
   "source": [
    "# Imported the IMDB file from sqlite database\n",
    "\n",
    "imdb_data = sqlite3.connect(r\"C:\\Users\\HomePC\\Documents\\Flatiron\\course_materials\\Phase_01\\dsc-phase-1-project-v2-4\\zippedData\\im.db.zip\")"
   ]
  },
  {
   "cell_type": "markdown",
   "metadata": {},
   "source": []
  },
  {
   "cell_type": "markdown",
   "metadata": {},
   "source": [
    "### In this next section, \n",
    "I wanted to pick the two datasets that had the largest size as they have highest statistical power. These data sets will be more reliable as they are a better reflector of the reality of the movie industry."
   ]
  },
  {
   "cell_type": "code",
   "execution_count": 34,
   "metadata": {},
   "outputs": [
    {
     "name": "stdout",
     "output_type": "stream",
     "text": [
      "Number of rows: 3387\n",
      "Number of columns: 5\n",
      "All elements: 16935\n"
     ]
    }
   ],
   "source": [
    "# Getting the size of of Bom movies data \n",
    "Bom_movies = pd.read_csv(r\"C:\\Users\\HomePC\\Documents\\Flatiron\\course_materials\\Phase_01\\dsc-phase-1-project-v2-4\\zippedData\\bom.movie_gross.csv.gz\")\n",
    "\n",
    "num_rows, num_columns = bom_movies.shape\n",
    "print(\"Number of rows:\", num_rows)\n",
    "print(\"Number of columns:\", num_columns)\n",
    "\n",
    "#To mulptiply both rows and columns to gauge an understand of how many elements we are dealing with\n",
    "\n",
    "Multiplied_elements = num_rows * num_columns\n",
    "print(\"All elements:\", Multiplied_elements) \n"
   ]
  },
  {
   "cell_type": "code",
   "execution_count": 35,
   "metadata": {},
   "outputs": [
    {
     "name": "stdout",
     "output_type": "stream",
     "text": [
      "Number of rows: 26517\n",
      "Number of columns: 10\n",
      "All elements: 265170\n"
     ]
    }
   ],
   "source": [
    "# Getting the size of of TMDB movies data \n",
    "TMDB_movies = pd.read_csv(r\"C:\\Users\\HomePC\\Documents\\Flatiron\\course_materials\\Phase_01\\dsc-phase-1-project-v2-4\\zippedData\\tmdb.movies.csv.gz\")\n",
    "\n",
    "num_rows, num_columns = TMDB_movies.shape\n",
    "print(\"Number of rows:\", num_rows)\n",
    "print(\"Number of columns:\", num_columns)\n",
    "\n",
    "#To mulptiply both rows and columns to gauge an understand of how many elements we are dealing with\n",
    "\n",
    "Multiplied_elements = num_rows * num_columns\n",
    "print(\"All elements:\", Multiplied_elements) "
   ]
  },
  {
   "cell_type": "code",
   "execution_count": 36,
   "metadata": {},
   "outputs": [
    {
     "name": "stdout",
     "output_type": "stream",
     "text": [
      "Number of rows: 1560\n",
      "Number of columns: 12\n",
      "All elements: 18720\n"
     ]
    }
   ],
   "source": [
    "# Getting the size of of movie_info data \n",
    "movie_info = pd.read_csv(r\"C:\\Users\\HomePC\\Documents\\Flatiron\\course_materials\\Phase_01\\dsc-phase-1-project-v2-4\\zippedData\\rt.movie_info.tsv.gz\", sep='\\t')\n",
    "\n",
    "num_rows, num_columns = movie_info.shape\n",
    "print(\"Number of rows:\", num_rows)\n",
    "print(\"Number of columns:\", num_columns)\n",
    "\n",
    "#To mulptiply both rows and columns to gauge an understand of how many elements we are dealing with\n",
    "\n",
    "Multiplied_elements = num_rows * num_columns\n",
    "print(\"All elements:\", Multiplied_elements) "
   ]
  },
  {
   "cell_type": "code",
   "execution_count": 37,
   "metadata": {},
   "outputs": [
    {
     "name": "stdout",
     "output_type": "stream",
     "text": [
      "Number of rows: 5782\n",
      "Number of columns: 6\n",
      "All elements: 34692\n"
     ]
    }
   ],
   "source": [
    "# Getting the size of of movie_budgets data \n",
    "movie_budgets = pd.read_csv(r\"C:\\Users\\HomePC\\Documents\\Flatiron\\course_materials\\Phase_01\\dsc-phase-1-project-v2-4\\zippedData\\tn.movie_budgets.csv.gz\")\n",
    "\n",
    "num_rows, num_columns = movie_budgets.shape\n",
    "print(\"Number of rows:\", num_rows)\n",
    "print(\"Number of columns:\", num_columns)\n",
    "\n",
    "#To mulptiply both rows and columns to gauge an understand of how many elements we are dealing with\n",
    "\n",
    "Multiplied_elements = num_rows * num_columns\n",
    "print(\"All elements:\", Multiplied_elements) "
   ]
  },
  {
   "cell_type": "code",
   "execution_count": null,
   "metadata": {},
   "outputs": [],
   "source": [
    "*EXPLAINATION ON HOW THE TOP IS QUANTITATIVE AND THE BOTTOM IS QUALITATIVE, the bottom is an explnation on what you column \n"
   ]
  },
  {
   "cell_type": "code",
   "execution_count": 45,
   "metadata": {},
   "outputs": [
    {
     "name": "stdout",
     "output_type": "stream",
     "text": [
      "Columns_for_movies_budget: Index(['id', 'release_date', 'movie', 'production_budget', 'domestic_gross',\n",
      "       'worldwide_gross'],\n",
      "      dtype='object')\n",
      "Columns_for_Bom_movies: Index(['title', 'studio', 'domestic_gross', 'foreign_gross', 'year'], dtype='object')\n",
      "Columns_for_movie_info: Index(['id', 'synopsis', 'rating', 'genre', 'director', 'writer',\n",
      "       'theater_date', 'dvd_date', 'currency', 'box_office', 'runtime',\n",
      "       'studio'],\n",
      "      dtype='object')\n",
      "Columns_for_TMDB: Index(['Unnamed: 0', 'genre_ids', 'id', 'original_language', 'original_title',\n",
      "       'popularity', 'release_date', 'title', 'vote_average', 'vote_count'],\n",
      "      dtype='object')\n",
      "Columns_for_movies_budget: Index(['id', 'release_date', 'movie', 'production_budget', 'domestic_gross',\n",
      "       'worldwide_gross'],\n",
      "      dtype='object')\n"
     ]
    }
   ],
   "source": [
    "print('Columns_for_movies_budget:', movie_budgets.columns) \n",
    "print('Columns_for_Bom_movies:', Bom_movies.columns) \n",
    "print('Columns_for_movie_info:', movie_info.columns) \n",
    "print('Columns_for_TMDB:', TMDB_movies.columns)\n",
    "print('Columns_for_movies_budget:', movie_budgets.columns)\n"
   ]
  },
  {
   "cell_type": "markdown",
   "metadata": {},
   "source": [
    "### In this next section, \n",
    "I wanted to pick the two datasets that had the largest size as they have highest statistical power. These data sets will be more reliable as they are a better reflector of the reality of the movie industry."
   ]
  },
  {
   "cell_type": "code",
   "execution_count": null,
   "metadata": {},
   "outputs": [],
   "source": []
  },
  {
   "cell_type": "markdown",
   "metadata": {},
   "source": [
    "Data Analysis\n"
   ]
  },
  {
   "cell_type": "markdown",
   "metadata": {},
   "source": [
    "Visualization"
   ]
  },
  {
   "cell_type": "code",
   "execution_count": null,
   "metadata": {},
   "outputs": [],
   "source": [
    "# Your code here - remember to use markdown cells for comments as well!"
   ]
  }
 ],
 "metadata": {
  "kernelspec": {
   "display_name": "Python (learn-env)",
   "language": "python",
   "name": "learn-env"
  },
  "language_info": {
   "codemirror_mode": {
    "name": "ipython",
    "version": 3
   },
   "file_extension": ".py",
   "mimetype": "text/x-python",
   "name": "python",
   "nbconvert_exporter": "python",
   "pygments_lexer": "ipython3",
   "version": "3.8.5"
  }
 },
 "nbformat": 4,
 "nbformat_minor": 2
}
