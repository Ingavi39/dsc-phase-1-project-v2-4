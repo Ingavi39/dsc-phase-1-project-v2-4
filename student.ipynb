{
 "cells": [
  {
   "cell_type": "markdown",
   "metadata": {},
   "source": [
    "## Final Project Submission\n",
    "\n",
    "Please fill out:\n",
    "* Student name: Ingavi Kilavuka\n",
    "* Student pace: full time\n",
    "* Scheduled project review date/time:\n",
    "* Instructor name: Mwikali \n",
    "* Blog post URL:\n"
   ]
  },
  {
   "cell_type": "markdown",
   "metadata": {},
   "source": [
    "## Overview  \n",
    "\n",
    "Microsoft is considering entry into the movie industry, driven by observations of thriving ventures within the sector. Seeking guidance, they aim to discern the optimal film attributes conducive to box office success. Leveraging comprehensive movie data encompassing worldwide and domestic box office revenue, production budget, genre classification, and runtime, our objective is to elucidate correlations among these variables and cinematic success metrics. This analytical endeavor aims to furnish Microsoft with actionable insights, guiding informed decision-making processes toward crafting high-earning cinematic endeavors."
   ]
  },
  {
   "cell_type": "markdown",
   "metadata": {},
   "source": [
    "## Business Understanding\n",
    "Microsoft's venture into the realm of cinema will undoubtedly be facilitated by addressing crucial inquiries such as:\n",
    "\n",
    "1. **Genre Prioritization**: Identifying the genres that resonate most with audiences and align with Microsoft's brand ethos will streamline their entry strategy. By pinpointing the genres where they can offer unique perspectives or capitalize on existing strengths, Microsoft can effectively carve out its niche in the competitive landscape.\n",
    "\n",
    "2. **Optimal Film Length**: Understanding the ideal duration for a movie is pivotal in captivating audience attention while ensuring narrative coherence. By exploring audience preferences and industry trends, Microsoft can tailor its productions to strike the perfect balance between engagement and storytelling depth.\n",
    "\n",
    "3. **Budget Allocation and Performance**: Analyzing the correlation between budget allocation and movie performance is essential for maximizing returns on investment. While a substantial budget can afford top-notch production values and star talent, prudent resource allocation is key to achieving commercial success. Microsoft must assess whether higher investment translates to enhanced audience reception and critical acclaim.\n",
    "\n",
    "4. **Competitive Landscape**: Identifying potential studio competitors is imperative for Microsoft to navigate the industry landscape effectively. By studying both emulation-worthy studios for best practices and potential direct competitors for differentiation strategies, Microsoft can position itself strategically in the market and capitalize on untapped opportunities.\n",
    "\n",
    "Addressing these fundamental questions will not only streamline Microsoft's entry into the movie industry but also lay a robust foundation for sustainable growth and creative innovation in the cinematic domain.\n"
   ]
  },
  {
   "cell_type": "markdown",
   "metadata": {},
   "source": [
    "## Data Understanding\n",
    "\n",
    "\n"
   ]
  },
  {
   "cell_type": "markdown",
   "metadata": {},
   "source": [
    "Firstly, we begin by importing all important python libraries and files"
   ]
  },
  {
   "cell_type": "code",
   "execution_count": 318,
   "metadata": {},
   "outputs": [],
   "source": [
    "#imported neccessary libraries\n",
    "import pandas as pd\n",
    "import numpy as np\n",
    "import matplotlib.pyplot as plt\n",
    "import seaborn as sns \n",
    "\n",
    "%matplotlib inline "
   ]
  },
  {
   "cell_type": "code",
   "execution_count": 319,
   "metadata": {},
   "outputs": [],
   "source": [
    "# Imported the CSV files\n",
    "Bom_movies = pd.read_csv(r\"C:\\Users\\HomePC\\Documents\\Flatiron\\course_materials\\Phase_01\\dsc-phase-1-project-v2-4\\zippedData\\bom.movie_gross.csv.gz\")\n",
    "movie_info = pd.read_csv(r\"C:\\Users\\HomePC\\Documents\\Flatiron\\course_materials\\Phase_01\\dsc-phase-1-project-v2-4\\zippedData\\rt.movie_info.tsv.gz\", sep='\\t')\n",
    "TMDB_movies = pd.read_csv(r\"C:\\Users\\HomePC\\Documents\\Flatiron\\course_materials\\Phase_01\\dsc-phase-1-project-v2-4\\zippedData\\tmdb.movies.csv.gz\")\n",
    "movie_budgets = pd.read_csv(r\"C:\\Users\\HomePC\\Documents\\Flatiron\\course_materials\\Phase_01\\dsc-phase-1-project-v2-4\\zippedData\\tn.movie_budgets.csv.gz\")"
   ]
  },
  {
   "cell_type": "markdown",
   "metadata": {},
   "source": [
    " Next, we need to get the size and information on each dataset. This is important because it will help us pick the datasets that can best fit our goal."
   ]
  },
  {
   "cell_type": "code",
   "execution_count": 320,
   "metadata": {},
   "outputs": [
    {
     "name": "stdout",
     "output_type": "stream",
     "text": [
      "Number of rows: 3387\n",
      "Number of columns: 5\n",
      "All elements: 16935\n",
      "Data information: <bound method DataFrame.info of                                             title      studio  domestic_gross  \\\n",
      "0                                     Toy Story 3          BV     415000000.0   \n",
      "1                      Alice in Wonderland (2010)          BV     334200000.0   \n",
      "2     Harry Potter and the Deathly Hallows Part 1          WB     296000000.0   \n",
      "3                                       Inception          WB     292600000.0   \n",
      "4                             Shrek Forever After        P/DW     238700000.0   \n",
      "...                                           ...         ...             ...   \n",
      "3382                                    The Quake       Magn.          6200.0   \n",
      "3383                  Edward II (2018 re-release)          FM          4800.0   \n",
      "3384                                     El Pacto        Sony          2500.0   \n",
      "3385                                     The Swan  Synergetic          2400.0   \n",
      "3386                            An Actor Prepares       Grav.          1700.0   \n",
      "\n",
      "     foreign_gross  year  \n",
      "0        652000000  2010  \n",
      "1        691300000  2010  \n",
      "2        664300000  2010  \n",
      "3        535700000  2010  \n",
      "4        513900000  2010  \n",
      "...            ...   ...  \n",
      "3382           NaN  2018  \n",
      "3383           NaN  2018  \n",
      "3384           NaN  2018  \n",
      "3385           NaN  2018  \n",
      "3386           NaN  2018  \n",
      "\n",
      "[3387 rows x 5 columns]>\n"
     ]
    }
   ],
   "source": [
    "# Getting the size of of Bom movies data \n",
    "Bom_movies = pd.read_csv(r\"C:\\Users\\HomePC\\Documents\\Flatiron\\course_materials\\Phase_01\\dsc-phase-1-project-v2-4\\zippedData\\bom.movie_gross.csv.gz\")\n",
    "num_rows, num_columns = bom_movies.shape\n",
    "print(\"Number of rows:\", num_rows)\n",
    "print(\"Number of columns:\", num_columns)\n",
    "\n",
    "#To mulptiply both rows and columns to gauge an understanding of how many elements we are dealing with\n",
    "Multiplied_elements = num_rows * num_columns\n",
    "print(\"All elements:\", Multiplied_elements)\n",
    "print(\"Data information:\", bom_movies.info) "
   ]
  },
  {
   "cell_type": "code",
   "execution_count": 321,
   "metadata": {},
   "outputs": [
    {
     "name": "stdout",
     "output_type": "stream",
     "text": [
      "Number of rows: 26517\n",
      "Number of columns: 10\n",
      "All elements: 265170\n",
      "Data information: <bound method DataFrame.info of        Unnamed: 0            genre_ids      id original_language  \\\n",
      "0               0      [12, 14, 10751]   12444                en   \n",
      "1               1  [14, 12, 16, 10751]   10191                en   \n",
      "2               2        [12, 28, 878]   10138                en   \n",
      "3               3      [16, 35, 10751]     862                en   \n",
      "4               4        [28, 878, 12]   27205                en   \n",
      "...           ...                  ...     ...               ...   \n",
      "26512       26512             [27, 18]  488143                en   \n",
      "26513       26513             [18, 53]  485975                en   \n",
      "26514       26514         [14, 28, 12]  381231                en   \n",
      "26515       26515      [10751, 12, 28]  366854                en   \n",
      "26516       26516             [53, 27]  309885                en   \n",
      "\n",
      "                                     original_title  popularity release_date  \\\n",
      "0      Harry Potter and the Deathly Hallows: Part 1      33.533   2010-11-19   \n",
      "1                          How to Train Your Dragon      28.734   2010-03-26   \n",
      "2                                        Iron Man 2      28.515   2010-05-07   \n",
      "3                                         Toy Story      28.005   1995-11-22   \n",
      "4                                         Inception      27.920   2010-07-16   \n",
      "...                                             ...         ...          ...   \n",
      "26512                         Laboratory Conditions       0.600   2018-10-13   \n",
      "26513                               _EXHIBIT_84xxx_       0.600   2018-05-01   \n",
      "26514                                  The Last One       0.600   2018-10-01   \n",
      "26515                                  Trailer Made       0.600   2018-06-22   \n",
      "26516                                    The Church       0.600   2018-10-05   \n",
      "\n",
      "                                              title  vote_average  vote_count  \n",
      "0      Harry Potter and the Deathly Hallows: Part 1           7.7       10788  \n",
      "1                          How to Train Your Dragon           7.7        7610  \n",
      "2                                        Iron Man 2           6.8       12368  \n",
      "3                                         Toy Story           7.9       10174  \n",
      "4                                         Inception           8.3       22186  \n",
      "...                                             ...           ...         ...  \n",
      "26512                         Laboratory Conditions           0.0           1  \n",
      "26513                               _EXHIBIT_84xxx_           0.0           1  \n",
      "26514                                  The Last One           0.0           1  \n",
      "26515                                  Trailer Made           0.0           1  \n",
      "26516                                    The Church           0.0           1  \n",
      "\n",
      "[26517 rows x 10 columns]>\n"
     ]
    }
   ],
   "source": [
    "#Getting the size of of TMDB movies data \n",
    "TMDB_movies = pd.read_csv(r\"C:\\Users\\HomePC\\Documents\\Flatiron\\course_materials\\Phase_01\\dsc-phase-1-project-v2-4\\zippedData\\tmdb.movies.csv.gz\")\n",
    "num_rows, num_columns = TMDB_movies.shape\n",
    "print(\"Number of rows:\", num_rows)\n",
    "print(\"Number of columns:\", num_columns)\n",
    "\n",
    "#To mulptiply both rows and columns to gauge an understanding of how many elements we are dealing with\n",
    "Multiplied_elements = num_rows * num_columns\n",
    "print(\"All elements:\", Multiplied_elements) \n",
    "print(\"Data information:\", TMDB_movies.info)"
   ]
  },
  {
   "cell_type": "code",
   "execution_count": 322,
   "metadata": {},
   "outputs": [
    {
     "name": "stdout",
     "output_type": "stream",
     "text": [
      "Number of rows: 1560\n",
      "Number of columns: 12\n",
      "All elements: 18720\n",
      "Data information: <bound method DataFrame.info of         id                                           synopsis rating  \\\n",
      "0        1  This gritty, fast-paced, and innovative police...      R   \n",
      "1        3  New York City, not-too-distant-future: Eric Pa...      R   \n",
      "2        5  Illeana Douglas delivers a superb performance ...      R   \n",
      "3        6  Michael Douglas runs afoul of a treacherous su...      R   \n",
      "4        7                                                NaN     NR   \n",
      "...    ...                                                ...    ...   \n",
      "1555  1996  Forget terrorists or hijackers -- there's a ha...      R   \n",
      "1556  1997  The popular Saturday Night Live sketch was exp...     PG   \n",
      "1557  1998  Based on a novel by Richard Powell, when the l...      G   \n",
      "1558  1999  The Sandlot is a coming-of-age story about a g...     PG   \n",
      "1559  2000  Suspended from the force, Paris cop Hubert is ...      R   \n",
      "\n",
      "                                                  genre            director  \\\n",
      "0                   Action and Adventure|Classics|Drama    William Friedkin   \n",
      "1                     Drama|Science Fiction and Fantasy    David Cronenberg   \n",
      "2                     Drama|Musical and Performing Arts      Allison Anders   \n",
      "3                            Drama|Mystery and Suspense      Barry Levinson   \n",
      "4                                         Drama|Romance      Rodney Bennett   \n",
      "...                                                 ...                 ...   \n",
      "1555   Action and Adventure|Horror|Mystery and Suspense                 NaN   \n",
      "1556                 Comedy|Science Fiction and Fantasy        Steve Barron   \n",
      "1557  Classics|Comedy|Drama|Musical and Performing Arts      Gordon Douglas   \n",
      "1558    Comedy|Drama|Kids and Family|Sports and Fitness  David Mickey Evans   \n",
      "1559  Action and Adventure|Art House and Internation...                 NaN   \n",
      "\n",
      "                                                writer  theater_date  \\\n",
      "0                                       Ernest Tidyman   Oct 9, 1971   \n",
      "1                         David Cronenberg|Don DeLillo  Aug 17, 2012   \n",
      "2                                       Allison Anders  Sep 13, 1996   \n",
      "3                      Paul Attanasio|Michael Crichton   Dec 9, 1994   \n",
      "4                                         Giles Cooper           NaN   \n",
      "...                                                ...           ...   \n",
      "1555                                               NaN  Aug 18, 2006   \n",
      "1556  Terry Turner|Tom Davis|Dan Aykroyd|Bonnie Turner  Jul 23, 1993   \n",
      "1557                                               NaN   Jan 1, 1962   \n",
      "1558                  David Mickey Evans|Robert Gunter   Apr 1, 1993   \n",
      "1559                                        Luc Besson  Sep 27, 2001   \n",
      "\n",
      "          dvd_date currency  box_office      runtime             studio  \n",
      "0     Sep 25, 2001      NaN         NaN  104 minutes                NaN  \n",
      "1      Jan 1, 2013        $     600,000  108 minutes  Entertainment One  \n",
      "2     Apr 18, 2000      NaN         NaN  116 minutes                NaN  \n",
      "3     Aug 27, 1997      NaN         NaN  128 minutes                NaN  \n",
      "4              NaN      NaN         NaN  200 minutes                NaN  \n",
      "...            ...      ...         ...          ...                ...  \n",
      "1555   Jan 2, 2007        $  33,886,034  106 minutes    New Line Cinema  \n",
      "1556  Apr 17, 2001      NaN         NaN   88 minutes  Paramount Vantage  \n",
      "1557  May 11, 2004      NaN         NaN  111 minutes                NaN  \n",
      "1558  Jan 29, 2002      NaN         NaN  101 minutes                NaN  \n",
      "1559  Feb 11, 2003      NaN         NaN   94 minutes  Columbia Pictures  \n",
      "\n",
      "[1560 rows x 12 columns]>\n"
     ]
    }
   ],
   "source": [
    "#Getting the size of of movie_info data \n",
    "movie_info = pd.read_csv(r\"C:\\Users\\HomePC\\Documents\\Flatiron\\course_materials\\Phase_01\\dsc-phase-1-project-v2-4\\zippedData\\rt.movie_info.tsv.gz\", sep='\\t')\n",
    "num_rows, num_columns = movie_info.shape\n",
    "print(\"Number of rows:\", num_rows)\n",
    "print(\"Number of columns:\", num_columns)\n",
    "\n",
    "#To mulptiply both rows and columns to gauge an understanding of how many elements we are dealing with\n",
    "Multiplied_elements = num_rows * num_columns\n",
    "print(\"All elements:\", Multiplied_elements) \n",
    "print(\"Data information:\", movie_info.info)"
   ]
  },
  {
   "cell_type": "code",
   "execution_count": 323,
   "metadata": {},
   "outputs": [
    {
     "name": "stdout",
     "output_type": "stream",
     "text": [
      "Number of rows: 5782\n",
      "Number of columns: 6\n",
      "All elements: 34692\n",
      "Data information: <bound method DataFrame.info of       id  release_date                                        movie  \\\n",
      "0      1  Dec 18, 2009                                       Avatar   \n",
      "1      2  May 20, 2011  Pirates of the Caribbean: On Stranger Tides   \n",
      "2      3   Jun 7, 2019                                 Dark Phoenix   \n",
      "3      4   May 1, 2015                      Avengers: Age of Ultron   \n",
      "4      5  Dec 15, 2017            Star Wars Ep. VIII: The Last Jedi   \n",
      "...   ..           ...                                          ...   \n",
      "5777  78  Dec 31, 2018                                       Red 11   \n",
      "5778  79   Apr 2, 1999                                    Following   \n",
      "5779  80  Jul 13, 2005                Return to the Land of Wonders   \n",
      "5780  81  Sep 29, 2015                         A Plague So Pleasant   \n",
      "5781  82   Aug 5, 2005                            My Date With Drew   \n",
      "\n",
      "     production_budget domestic_gross worldwide_gross  \n",
      "0         $425,000,000   $760,507,625  $2,776,345,279  \n",
      "1         $410,600,000   $241,063,875  $1,045,663,875  \n",
      "2         $350,000,000    $42,762,350    $149,762,350  \n",
      "3         $330,600,000   $459,005,868  $1,403,013,963  \n",
      "4         $317,000,000   $620,181,382  $1,316,721,747  \n",
      "...                ...            ...             ...  \n",
      "5777            $7,000             $0              $0  \n",
      "5778            $6,000        $48,482        $240,495  \n",
      "5779            $5,000         $1,338          $1,338  \n",
      "5780            $1,400             $0              $0  \n",
      "5781            $1,100       $181,041        $181,041  \n",
      "\n",
      "[5782 rows x 6 columns]>\n"
     ]
    }
   ],
   "source": [
    "# Getting the size of of movie_budgets data \n",
    "movie_budgets = pd.read_csv(r\"C:\\Users\\HomePC\\Documents\\Flatiron\\course_materials\\Phase_01\\dsc-phase-1-project-v2-4\\zippedData\\tn.movie_budgets.csv.gz\")\n",
    "num_rows, num_columns = movie_budgets.shape\n",
    "print(\"Number of rows:\", num_rows)\n",
    "print(\"Number of columns:\", num_columns)\n",
    "\n",
    "#We mulptiply both rows and columns to gauge an understanding of how many elements we are dealing with\n",
    "Multiplied_elements = num_rows * num_columns\n",
    "print(\"All elements:\", Multiplied_elements) \n",
    "print(\"Data information:\", movie_budgets.info)"
   ]
  },
  {
   "cell_type": "markdown",
   "metadata": {},
   "source": [
    "Above we can see that the 'movie_budgets', 'TMD_movies' and 'movie_info' are the top 3 while 'Bom_movies' comes last.\n",
    "Now while the amount of data is important for reliability, what the data says is just as, if not more important as it will be easier to accomplish what we have set out to do.\n",
    "So we must qualitatively decide which datasets to pick out"
   ]
  },
  {
   "cell_type": "code",
   "execution_count": 324,
   "metadata": {},
   "outputs": [
    {
     "name": "stdout",
     "output_type": "stream",
     "text": [
      "Columns_for_movies_budget: Index(['id', 'release_date', 'movie', 'production_budget', 'domestic_gross',\n",
      "       'worldwide_gross'],\n",
      "      dtype='object')\n",
      "Columns_for_Bom_movies: Index(['title', 'studio', 'domestic_gross', 'foreign_gross', 'year'], dtype='object')\n",
      "Columns_for_movie_info: Index(['id', 'synopsis', 'rating', 'genre', 'director', 'writer',\n",
      "       'theater_date', 'dvd_date', 'currency', 'box_office', 'runtime',\n",
      "       'studio'],\n",
      "      dtype='object')\n",
      "Columns_for_TMDB: Index(['Unnamed: 0', 'genre_ids', 'id', 'original_language', 'original_title',\n",
      "       'popularity', 'release_date', 'title', 'vote_average', 'vote_count'],\n",
      "      dtype='object')\n"
     ]
    }
   ],
   "source": [
    "#This column information helps us decide qualitatively which datasets has information that we need and those that are not as useful\n",
    "print('Columns_for_movies_budget:', movie_budgets.columns) \n",
    "print('Columns_for_Bom_movies:', Bom_movies.columns) \n",
    "print('Columns_for_movie_info:', movie_info.columns) \n",
    "print('Columns_for_TMDB:', TMDB_movies.columns)"
   ]
  },
  {
   "cell_type": "markdown",
   "metadata": {},
   "source": [
    "The best data sets to use will be:\n",
    "- **'Movie_budgets'** as it gives use both domestic and worldwide gross, as well as the movie budget\n",
    "- **'Movies_info'** as it gives use the runtime as well as the genre of the movie\n",
    "- **'Bom_movies'** can be used to see which studio does best at the box office \n",
    "Though 'TMDB' HAD alot more data the was no highly distiguishing variable to measure a likely hood of success. It does not provide a genre, age rating, runtime, budget. Only the date, which I beleive is not strong enough of a reason to contribute to a films success"
   ]
  },
  {
   "cell_type": "markdown",
   "metadata": {},
   "source": [
    "## Data preparation \n",
    "In this section, we clean the data, removing rows with missing values, adding median values to a few missing rows, making any strings that are numerical into floats or integers"
   ]
  },
  {
   "cell_type": "markdown",
   "metadata": {},
   "source": [
    "### DATA CLEANING"
   ]
  },
  {
   "cell_type": "code",
   "execution_count": 325,
   "metadata": {},
   "outputs": [],
   "source": [
    "#Cleaning the bom.movie_gross.csv\n",
    "#Drop rows with missing values in the 'studio' column\n",
    "Bom_movies.dropna(subset=['studio'], inplace=True)\n",
    "\n",
    "#We fill missing values in 'domestic_gross' with the median\n",
    "Bom_movies['domestic_gross'].fillna(Bom_movies['domestic_gross'].median(), inplace=True)\n",
    "\n",
    "#We convert 'foreign_gross' to numeric and fill missing values with 0\n",
    "Bom_movies['foreign_gross'] = pd.to_numeric(Bom_movies['foreign_gross'], errors='coerce').fillna(0)\n",
    "\n",
    "#adding both domestic and foreign gross inorder to have the total amount earned from each movie\n",
    "Bom_movies['total_gross'] = Bom_movies['foreign_gross'] + Bom_movies['domestic_gross']\n",
    "\n",
    "\n"
   ]
  },
  {
   "cell_type": "code",
   "execution_count": 326,
   "metadata": {},
   "outputs": [
    {
     "data": {
      "text/html": [
       "<div>\n",
       "<style scoped>\n",
       "    .dataframe tbody tr th:only-of-type {\n",
       "        vertical-align: middle;\n",
       "    }\n",
       "\n",
       "    .dataframe tbody tr th {\n",
       "        vertical-align: top;\n",
       "    }\n",
       "\n",
       "    .dataframe thead th {\n",
       "        text-align: right;\n",
       "    }\n",
       "</style>\n",
       "<table border=\"1\" class=\"dataframe\">\n",
       "  <thead>\n",
       "    <tr style=\"text-align: right;\">\n",
       "      <th></th>\n",
       "      <th>title</th>\n",
       "      <th>studio</th>\n",
       "      <th>domestic_gross</th>\n",
       "      <th>foreign_gross</th>\n",
       "      <th>year</th>\n",
       "      <th>total_gross</th>\n",
       "    </tr>\n",
       "  </thead>\n",
       "  <tbody>\n",
       "    <tr>\n",
       "      <th>0</th>\n",
       "      <td>Toy Story 3</td>\n",
       "      <td>BV</td>\n",
       "      <td>415000000.0</td>\n",
       "      <td>652000000.0</td>\n",
       "      <td>2010</td>\n",
       "      <td>1.067000e+09</td>\n",
       "    </tr>\n",
       "    <tr>\n",
       "      <th>1</th>\n",
       "      <td>Alice in Wonderland (2010)</td>\n",
       "      <td>BV</td>\n",
       "      <td>334200000.0</td>\n",
       "      <td>691300000.0</td>\n",
       "      <td>2010</td>\n",
       "      <td>1.025500e+09</td>\n",
       "    </tr>\n",
       "    <tr>\n",
       "      <th>2</th>\n",
       "      <td>Harry Potter and the Deathly Hallows Part 1</td>\n",
       "      <td>WB</td>\n",
       "      <td>296000000.0</td>\n",
       "      <td>664300000.0</td>\n",
       "      <td>2010</td>\n",
       "      <td>9.603000e+08</td>\n",
       "    </tr>\n",
       "    <tr>\n",
       "      <th>3</th>\n",
       "      <td>Inception</td>\n",
       "      <td>WB</td>\n",
       "      <td>292600000.0</td>\n",
       "      <td>535700000.0</td>\n",
       "      <td>2010</td>\n",
       "      <td>8.283000e+08</td>\n",
       "    </tr>\n",
       "    <tr>\n",
       "      <th>4</th>\n",
       "      <td>Shrek Forever After</td>\n",
       "      <td>P/DW</td>\n",
       "      <td>238700000.0</td>\n",
       "      <td>513900000.0</td>\n",
       "      <td>2010</td>\n",
       "      <td>7.526000e+08</td>\n",
       "    </tr>\n",
       "    <tr>\n",
       "      <th>...</th>\n",
       "      <td>...</td>\n",
       "      <td>...</td>\n",
       "      <td>...</td>\n",
       "      <td>...</td>\n",
       "      <td>...</td>\n",
       "      <td>...</td>\n",
       "    </tr>\n",
       "    <tr>\n",
       "      <th>3377</th>\n",
       "      <td>The Quake</td>\n",
       "      <td>Magn.</td>\n",
       "      <td>6200.0</td>\n",
       "      <td>0.0</td>\n",
       "      <td>2018</td>\n",
       "      <td>6.200000e+03</td>\n",
       "    </tr>\n",
       "    <tr>\n",
       "      <th>3378</th>\n",
       "      <td>Edward II (2018 re-release)</td>\n",
       "      <td>FM</td>\n",
       "      <td>4800.0</td>\n",
       "      <td>0.0</td>\n",
       "      <td>2018</td>\n",
       "      <td>4.800000e+03</td>\n",
       "    </tr>\n",
       "    <tr>\n",
       "      <th>3379</th>\n",
       "      <td>El Pacto</td>\n",
       "      <td>Sony</td>\n",
       "      <td>2500.0</td>\n",
       "      <td>0.0</td>\n",
       "      <td>2018</td>\n",
       "      <td>2.500000e+03</td>\n",
       "    </tr>\n",
       "    <tr>\n",
       "      <th>3380</th>\n",
       "      <td>The Swan</td>\n",
       "      <td>Synergetic</td>\n",
       "      <td>2400.0</td>\n",
       "      <td>0.0</td>\n",
       "      <td>2018</td>\n",
       "      <td>2.400000e+03</td>\n",
       "    </tr>\n",
       "    <tr>\n",
       "      <th>3381</th>\n",
       "      <td>An Actor Prepares</td>\n",
       "      <td>Grav.</td>\n",
       "      <td>1700.0</td>\n",
       "      <td>0.0</td>\n",
       "      <td>2018</td>\n",
       "      <td>1.700000e+03</td>\n",
       "    </tr>\n",
       "  </tbody>\n",
       "</table>\n",
       "<p>3382 rows × 6 columns</p>\n",
       "</div>"
      ],
      "text/plain": [
       "                                            title      studio  domestic_gross  \\\n",
       "0                                     Toy Story 3          BV     415000000.0   \n",
       "1                      Alice in Wonderland (2010)          BV     334200000.0   \n",
       "2     Harry Potter and the Deathly Hallows Part 1          WB     296000000.0   \n",
       "3                                       Inception          WB     292600000.0   \n",
       "4                             Shrek Forever After        P/DW     238700000.0   \n",
       "...                                           ...         ...             ...   \n",
       "3377                                    The Quake       Magn.          6200.0   \n",
       "3378                  Edward II (2018 re-release)          FM          4800.0   \n",
       "3379                                     El Pacto        Sony          2500.0   \n",
       "3380                                     The Swan  Synergetic          2400.0   \n",
       "3381                            An Actor Prepares       Grav.          1700.0   \n",
       "\n",
       "      foreign_gross  year   total_gross  \n",
       "0       652000000.0  2010  1.067000e+09  \n",
       "1       691300000.0  2010  1.025500e+09  \n",
       "2       664300000.0  2010  9.603000e+08  \n",
       "3       535700000.0  2010  8.283000e+08  \n",
       "4       513900000.0  2010  7.526000e+08  \n",
       "...             ...   ...           ...  \n",
       "3377            0.0  2018  6.200000e+03  \n",
       "3378            0.0  2018  4.800000e+03  \n",
       "3379            0.0  2018  2.500000e+03  \n",
       "3380            0.0  2018  2.400000e+03  \n",
       "3381            0.0  2018  1.700000e+03  \n",
       "\n",
       "[3382 rows x 6 columns]"
      ]
     },
     "execution_count": 326,
     "metadata": {},
     "output_type": "execute_result"
    }
   ],
   "source": [
    "#Saving the Bom_movies to a CSV file and then reloading it into a new DataFrame clean_Bom_movies\n",
    "Bom_movies.to_csv('clean_movie_budgets.csv', index=False)\n",
    "clean_Bom_movies = pd.read_csv('clean_movie_budgets.csv')\n",
    "clean_Bom_movies"
   ]
  },
  {
   "cell_type": "code",
   "execution_count": 327,
   "metadata": {},
   "outputs": [],
   "source": [
    "# Remove duplicates\n",
    "movie_budgets.drop_duplicates(inplace=True)\n",
    "\n",
    "#removing the columns tht have 0 as they do not fit into the criteria \n",
    "clean_movie_budgets = (movie_budgets['domestic_gross'] != 0) & (movie_budgets['worldwide_gross'] != 0)\n",
    "\n",
    "# Apply the condition to filter the DataFrame\n",
    "movie_budgets = movie_budgets[clean_movie_budgets]\n",
    "\n",
    "#Summing foreign and domestic gross\n",
    "movie_budgets['total_gross'] = movie_budgets['worldwide_gross'] + movie_budgets['domestic_gross']"
   ]
  },
  {
   "cell_type": "code",
   "execution_count": 328,
   "metadata": {},
   "outputs": [],
   "source": [
    "#converting all numericals from strings to floats to allow any neccessary mathematical operations to take place\n",
    "#removing the dollar sign and commas to allow for any necessary mathematical operations\n",
    "\n",
    "movie_budgets['production_budget'] = movie_budgets['production_budget'].str.replace('$', '').str.replace(',', '').astype(float)\n",
    "movie_budgets['domestic_gross'] = movie_budgets['domestic_gross'].str.replace('$', '').str.replace(',', '').astype(float)\n",
    "movie_budgets['worldwide_gross'] = movie_budgets['worldwide_gross'].str.replace('$', '').str.replace(',', '').astype(float)\n",
    "movie_budgets['total_gross'] = movie_budgets['total_gross'].str.replace('$', '').str.replace(',', '').astype(float)"
   ]
  },
  {
   "cell_type": "code",
   "execution_count": 329,
   "metadata": {},
   "outputs": [
    {
     "data": {
      "text/html": [
       "<div>\n",
       "<style scoped>\n",
       "    .dataframe tbody tr th:only-of-type {\n",
       "        vertical-align: middle;\n",
       "    }\n",
       "\n",
       "    .dataframe tbody tr th {\n",
       "        vertical-align: top;\n",
       "    }\n",
       "\n",
       "    .dataframe thead th {\n",
       "        text-align: right;\n",
       "    }\n",
       "</style>\n",
       "<table border=\"1\" class=\"dataframe\">\n",
       "  <thead>\n",
       "    <tr style=\"text-align: right;\">\n",
       "      <th></th>\n",
       "      <th>id</th>\n",
       "      <th>release_date</th>\n",
       "      <th>movie</th>\n",
       "      <th>production_budget</th>\n",
       "      <th>domestic_gross</th>\n",
       "      <th>worldwide_gross</th>\n",
       "      <th>total_gross</th>\n",
       "    </tr>\n",
       "  </thead>\n",
       "  <tbody>\n",
       "    <tr>\n",
       "      <th>0</th>\n",
       "      <td>1</td>\n",
       "      <td>Dec 18, 2009</td>\n",
       "      <td>Avatar</td>\n",
       "      <td>425000000.0</td>\n",
       "      <td>760507625.0</td>\n",
       "      <td>2.776345e+09</td>\n",
       "      <td>2.776345e+18</td>\n",
       "    </tr>\n",
       "    <tr>\n",
       "      <th>1</th>\n",
       "      <td>2</td>\n",
       "      <td>May 20, 2011</td>\n",
       "      <td>Pirates of the Caribbean: On Stranger Tides</td>\n",
       "      <td>410600000.0</td>\n",
       "      <td>241063875.0</td>\n",
       "      <td>1.045664e+09</td>\n",
       "      <td>1.045664e+18</td>\n",
       "    </tr>\n",
       "    <tr>\n",
       "      <th>2</th>\n",
       "      <td>3</td>\n",
       "      <td>Jun 7, 2019</td>\n",
       "      <td>Dark Phoenix</td>\n",
       "      <td>350000000.0</td>\n",
       "      <td>42762350.0</td>\n",
       "      <td>1.497624e+08</td>\n",
       "      <td>1.497624e+16</td>\n",
       "    </tr>\n",
       "    <tr>\n",
       "      <th>3</th>\n",
       "      <td>4</td>\n",
       "      <td>May 1, 2015</td>\n",
       "      <td>Avengers: Age of Ultron</td>\n",
       "      <td>330600000.0</td>\n",
       "      <td>459005868.0</td>\n",
       "      <td>1.403014e+09</td>\n",
       "      <td>1.403014e+18</td>\n",
       "    </tr>\n",
       "    <tr>\n",
       "      <th>4</th>\n",
       "      <td>5</td>\n",
       "      <td>Dec 15, 2017</td>\n",
       "      <td>Star Wars Ep. VIII: The Last Jedi</td>\n",
       "      <td>317000000.0</td>\n",
       "      <td>620181382.0</td>\n",
       "      <td>1.316722e+09</td>\n",
       "      <td>1.316722e+18</td>\n",
       "    </tr>\n",
       "    <tr>\n",
       "      <th>...</th>\n",
       "      <td>...</td>\n",
       "      <td>...</td>\n",
       "      <td>...</td>\n",
       "      <td>...</td>\n",
       "      <td>...</td>\n",
       "      <td>...</td>\n",
       "      <td>...</td>\n",
       "    </tr>\n",
       "    <tr>\n",
       "      <th>5777</th>\n",
       "      <td>78</td>\n",
       "      <td>Dec 31, 2018</td>\n",
       "      <td>Red 11</td>\n",
       "      <td>7000.0</td>\n",
       "      <td>0.0</td>\n",
       "      <td>0.000000e+00</td>\n",
       "      <td>0.000000e+00</td>\n",
       "    </tr>\n",
       "    <tr>\n",
       "      <th>5778</th>\n",
       "      <td>79</td>\n",
       "      <td>Apr 2, 1999</td>\n",
       "      <td>Following</td>\n",
       "      <td>6000.0</td>\n",
       "      <td>48482.0</td>\n",
       "      <td>2.404950e+05</td>\n",
       "      <td>2.404955e+10</td>\n",
       "    </tr>\n",
       "    <tr>\n",
       "      <th>5779</th>\n",
       "      <td>80</td>\n",
       "      <td>Jul 13, 2005</td>\n",
       "      <td>Return to the Land of Wonders</td>\n",
       "      <td>5000.0</td>\n",
       "      <td>1338.0</td>\n",
       "      <td>1.338000e+03</td>\n",
       "      <td>1.338134e+07</td>\n",
       "    </tr>\n",
       "    <tr>\n",
       "      <th>5780</th>\n",
       "      <td>81</td>\n",
       "      <td>Sep 29, 2015</td>\n",
       "      <td>A Plague So Pleasant</td>\n",
       "      <td>1400.0</td>\n",
       "      <td>0.0</td>\n",
       "      <td>0.000000e+00</td>\n",
       "      <td>0.000000e+00</td>\n",
       "    </tr>\n",
       "    <tr>\n",
       "      <th>5781</th>\n",
       "      <td>82</td>\n",
       "      <td>Aug 5, 2005</td>\n",
       "      <td>My Date With Drew</td>\n",
       "      <td>1100.0</td>\n",
       "      <td>181041.0</td>\n",
       "      <td>1.810410e+05</td>\n",
       "      <td>1.810412e+11</td>\n",
       "    </tr>\n",
       "  </tbody>\n",
       "</table>\n",
       "<p>5782 rows × 7 columns</p>\n",
       "</div>"
      ],
      "text/plain": [
       "      id  release_date                                        movie  \\\n",
       "0      1  Dec 18, 2009                                       Avatar   \n",
       "1      2  May 20, 2011  Pirates of the Caribbean: On Stranger Tides   \n",
       "2      3   Jun 7, 2019                                 Dark Phoenix   \n",
       "3      4   May 1, 2015                      Avengers: Age of Ultron   \n",
       "4      5  Dec 15, 2017            Star Wars Ep. VIII: The Last Jedi   \n",
       "...   ..           ...                                          ...   \n",
       "5777  78  Dec 31, 2018                                       Red 11   \n",
       "5778  79   Apr 2, 1999                                    Following   \n",
       "5779  80  Jul 13, 2005                Return to the Land of Wonders   \n",
       "5780  81  Sep 29, 2015                         A Plague So Pleasant   \n",
       "5781  82   Aug 5, 2005                            My Date With Drew   \n",
       "\n",
       "      production_budget  domestic_gross  worldwide_gross   total_gross  \n",
       "0           425000000.0     760507625.0     2.776345e+09  2.776345e+18  \n",
       "1           410600000.0     241063875.0     1.045664e+09  1.045664e+18  \n",
       "2           350000000.0      42762350.0     1.497624e+08  1.497624e+16  \n",
       "3           330600000.0     459005868.0     1.403014e+09  1.403014e+18  \n",
       "4           317000000.0     620181382.0     1.316722e+09  1.316722e+18  \n",
       "...                 ...             ...              ...           ...  \n",
       "5777             7000.0             0.0     0.000000e+00  0.000000e+00  \n",
       "5778             6000.0         48482.0     2.404950e+05  2.404955e+10  \n",
       "5779             5000.0          1338.0     1.338000e+03  1.338134e+07  \n",
       "5780             1400.0             0.0     0.000000e+00  0.000000e+00  \n",
       "5781             1100.0        181041.0     1.810410e+05  1.810412e+11  \n",
       "\n",
       "[5782 rows x 7 columns]"
      ]
     },
     "execution_count": 329,
     "metadata": {},
     "output_type": "execute_result"
    }
   ],
   "source": [
    "#Saving the movie_budgets to a CSV file and then reloading it into a new DataFrame clean_movie_budget\n",
    "movie_budgets.to_csv('clean_movie_budgets.csv', index=False)\n",
    "clean_movie_budgets = pd.read_csv('clean_movie_budgets.csv')\n",
    "clean_movie_budgets"
   ]
  },
  {
   "cell_type": "code",
   "execution_count": 330,
   "metadata": {},
   "outputs": [],
   "source": [
    "#Chaning the data in box_office column from strings to floats in order to perform the neccessary calculations \n",
    "movie_info['box_office'] = movie_info['box_office'].str.replace(',', '').astype(float)"
   ]
  },
  {
   "cell_type": "code",
   "execution_count": 331,
   "metadata": {},
   "outputs": [
    {
     "name": "stdout",
     "output_type": "stream",
     "text": [
      "        id rating                                              genre  \\\n",
      "827   1071      R                                              Drama   \n",
      "877   1136  PG-13   Action and Adventure|Science Fiction and Fantasy   \n",
      "1188  1525  PG-13          Action and Adventure|Mystery and Suspense   \n",
      "690    883  PG-13                                             Comedy   \n",
      "1117  1442     PG        Kids and Family|Science Fiction and Fantasy   \n",
      "...    ...    ...                                                ...   \n",
      "1554  1995  PG-13                Action and Adventure|Comedy|Western   \n",
      "1556  1997     PG                 Comedy|Science Fiction and Fantasy   \n",
      "1557  1998      G  Classics|Comedy|Drama|Musical and Performing Arts   \n",
      "1558  1999     PG    Comedy|Drama|Kids and Family|Sports and Fitness   \n",
      "1559  2000      R  Action and Adventure|Art House and Internation...   \n",
      "\n",
      "      theater_date   box_office      runtime                 studio  \n",
      "827   Feb 25, 2004  368000000.0  127 minutes   Newmarket Film Group  \n",
      "877   Dec 14, 2012  303001229.0  170 minutes           Warner Bros.  \n",
      "1188   Nov 9, 2012  299300000.0  145 minutes                    MGM  \n",
      "690   Dec 22, 2004  279167575.0  118 minutes     Universal Pictures  \n",
      "1117  Nov 15, 2002  261835892.0  161 minutes  Warner Bros. Pictures  \n",
      "...            ...          ...          ...                    ...  \n",
      "1554  Jun 30, 1999          NaN  107 minutes  Warner Bros. Pictures  \n",
      "1556  Jul 23, 1993          NaN   88 minutes      Paramount Vantage  \n",
      "1557   Jan 1, 1962          NaN  111 minutes                    NaN  \n",
      "1558   Apr 1, 1993          NaN  101 minutes                    NaN  \n",
      "1559  Sep 27, 2001          NaN   94 minutes      Columbia Pictures  \n",
      "\n",
      "[1560 rows x 7 columns]\n"
     ]
    }
   ],
   "source": [
    "#Ordered the Dataframe based from highest to lowest\n",
    "movie_info_sorted = movie_info.sort_values(by='box_office', ascending=False)\n",
    "\n",
    "# Removed columns 'synopsis', 'writer', 'currency', 'director', 'dvd_date' from the sorted Data as they are irrelevant\n",
    "columns_to_remove = ['synopsis', 'writer', 'currency', 'director', 'dvd_date']\n",
    "movie_info_sorted.drop(columns=columns_to_remove, inplace=True)\n",
    "\n",
    "movie_info = movie_info_sorted\n",
    "print(movie_info)"
   ]
  },
  {
   "cell_type": "code",
   "execution_count": 332,
   "metadata": {},
   "outputs": [],
   "source": [
    "#Converting 'runtime' to float\n",
    "movie_info['runtime'] = movie_info['runtime'].str.replace(' minutes', '').astype(float)\n",
    "#Converting 'box_office' to float\n",
    "movie_info['box_office'] = movie_info['box_office'].astype(float)"
   ]
  },
  {
   "cell_type": "code",
   "execution_count": 333,
   "metadata": {},
   "outputs": [
    {
     "data": {
      "text/html": [
       "<div>\n",
       "<style scoped>\n",
       "    .dataframe tbody tr th:only-of-type {\n",
       "        vertical-align: middle;\n",
       "    }\n",
       "\n",
       "    .dataframe tbody tr th {\n",
       "        vertical-align: top;\n",
       "    }\n",
       "\n",
       "    .dataframe thead th {\n",
       "        text-align: right;\n",
       "    }\n",
       "</style>\n",
       "<table border=\"1\" class=\"dataframe\">\n",
       "  <thead>\n",
       "    <tr style=\"text-align: right;\">\n",
       "      <th></th>\n",
       "      <th>id</th>\n",
       "      <th>rating</th>\n",
       "      <th>genre</th>\n",
       "      <th>theater_date</th>\n",
       "      <th>box_office</th>\n",
       "      <th>runtime</th>\n",
       "      <th>studio</th>\n",
       "    </tr>\n",
       "  </thead>\n",
       "  <tbody>\n",
       "    <tr>\n",
       "      <th>0</th>\n",
       "      <td>1071</td>\n",
       "      <td>R</td>\n",
       "      <td>Drama</td>\n",
       "      <td>Feb 25, 2004</td>\n",
       "      <td>368000000.0</td>\n",
       "      <td>127.0</td>\n",
       "      <td>Newmarket Film Group</td>\n",
       "    </tr>\n",
       "    <tr>\n",
       "      <th>1</th>\n",
       "      <td>1136</td>\n",
       "      <td>PG-13</td>\n",
       "      <td>Action and Adventure|Science Fiction and Fantasy</td>\n",
       "      <td>Dec 14, 2012</td>\n",
       "      <td>303001229.0</td>\n",
       "      <td>170.0</td>\n",
       "      <td>Warner Bros.</td>\n",
       "    </tr>\n",
       "    <tr>\n",
       "      <th>2</th>\n",
       "      <td>1525</td>\n",
       "      <td>PG-13</td>\n",
       "      <td>Action and Adventure|Mystery and Suspense</td>\n",
       "      <td>Nov 9, 2012</td>\n",
       "      <td>299300000.0</td>\n",
       "      <td>145.0</td>\n",
       "      <td>MGM</td>\n",
       "    </tr>\n",
       "    <tr>\n",
       "      <th>3</th>\n",
       "      <td>883</td>\n",
       "      <td>PG-13</td>\n",
       "      <td>Comedy</td>\n",
       "      <td>Dec 22, 2004</td>\n",
       "      <td>279167575.0</td>\n",
       "      <td>118.0</td>\n",
       "      <td>Universal Pictures</td>\n",
       "    </tr>\n",
       "    <tr>\n",
       "      <th>4</th>\n",
       "      <td>1442</td>\n",
       "      <td>PG</td>\n",
       "      <td>Kids and Family|Science Fiction and Fantasy</td>\n",
       "      <td>Nov 15, 2002</td>\n",
       "      <td>261835892.0</td>\n",
       "      <td>161.0</td>\n",
       "      <td>Warner Bros. Pictures</td>\n",
       "    </tr>\n",
       "    <tr>\n",
       "      <th>...</th>\n",
       "      <td>...</td>\n",
       "      <td>...</td>\n",
       "      <td>...</td>\n",
       "      <td>...</td>\n",
       "      <td>...</td>\n",
       "      <td>...</td>\n",
       "      <td>...</td>\n",
       "    </tr>\n",
       "    <tr>\n",
       "      <th>1555</th>\n",
       "      <td>1995</td>\n",
       "      <td>PG-13</td>\n",
       "      <td>Action and Adventure|Comedy|Western</td>\n",
       "      <td>Jun 30, 1999</td>\n",
       "      <td>NaN</td>\n",
       "      <td>107.0</td>\n",
       "      <td>Warner Bros. Pictures</td>\n",
       "    </tr>\n",
       "    <tr>\n",
       "      <th>1556</th>\n",
       "      <td>1997</td>\n",
       "      <td>PG</td>\n",
       "      <td>Comedy|Science Fiction and Fantasy</td>\n",
       "      <td>Jul 23, 1993</td>\n",
       "      <td>NaN</td>\n",
       "      <td>88.0</td>\n",
       "      <td>Paramount Vantage</td>\n",
       "    </tr>\n",
       "    <tr>\n",
       "      <th>1557</th>\n",
       "      <td>1998</td>\n",
       "      <td>G</td>\n",
       "      <td>Classics|Comedy|Drama|Musical and Performing Arts</td>\n",
       "      <td>Jan 1, 1962</td>\n",
       "      <td>NaN</td>\n",
       "      <td>111.0</td>\n",
       "      <td>NaN</td>\n",
       "    </tr>\n",
       "    <tr>\n",
       "      <th>1558</th>\n",
       "      <td>1999</td>\n",
       "      <td>PG</td>\n",
       "      <td>Comedy|Drama|Kids and Family|Sports and Fitness</td>\n",
       "      <td>Apr 1, 1993</td>\n",
       "      <td>NaN</td>\n",
       "      <td>101.0</td>\n",
       "      <td>NaN</td>\n",
       "    </tr>\n",
       "    <tr>\n",
       "      <th>1559</th>\n",
       "      <td>2000</td>\n",
       "      <td>R</td>\n",
       "      <td>Action and Adventure|Art House and Internation...</td>\n",
       "      <td>Sep 27, 2001</td>\n",
       "      <td>NaN</td>\n",
       "      <td>94.0</td>\n",
       "      <td>Columbia Pictures</td>\n",
       "    </tr>\n",
       "  </tbody>\n",
       "</table>\n",
       "<p>1560 rows × 7 columns</p>\n",
       "</div>"
      ],
      "text/plain": [
       "        id rating                                              genre  \\\n",
       "0     1071      R                                              Drama   \n",
       "1     1136  PG-13   Action and Adventure|Science Fiction and Fantasy   \n",
       "2     1525  PG-13          Action and Adventure|Mystery and Suspense   \n",
       "3      883  PG-13                                             Comedy   \n",
       "4     1442     PG        Kids and Family|Science Fiction and Fantasy   \n",
       "...    ...    ...                                                ...   \n",
       "1555  1995  PG-13                Action and Adventure|Comedy|Western   \n",
       "1556  1997     PG                 Comedy|Science Fiction and Fantasy   \n",
       "1557  1998      G  Classics|Comedy|Drama|Musical and Performing Arts   \n",
       "1558  1999     PG    Comedy|Drama|Kids and Family|Sports and Fitness   \n",
       "1559  2000      R  Action and Adventure|Art House and Internation...   \n",
       "\n",
       "      theater_date   box_office  runtime                 studio  \n",
       "0     Feb 25, 2004  368000000.0    127.0   Newmarket Film Group  \n",
       "1     Dec 14, 2012  303001229.0    170.0           Warner Bros.  \n",
       "2      Nov 9, 2012  299300000.0    145.0                    MGM  \n",
       "3     Dec 22, 2004  279167575.0    118.0     Universal Pictures  \n",
       "4     Nov 15, 2002  261835892.0    161.0  Warner Bros. Pictures  \n",
       "...            ...          ...      ...                    ...  \n",
       "1555  Jun 30, 1999          NaN    107.0  Warner Bros. Pictures  \n",
       "1556  Jul 23, 1993          NaN     88.0      Paramount Vantage  \n",
       "1557   Jan 1, 1962          NaN    111.0                    NaN  \n",
       "1558   Apr 1, 1993          NaN    101.0                    NaN  \n",
       "1559  Sep 27, 2001          NaN     94.0      Columbia Pictures  \n",
       "\n",
       "[1560 rows x 7 columns]"
      ]
     },
     "execution_count": 333,
     "metadata": {},
     "output_type": "execute_result"
    }
   ],
   "source": [
    "#Saving the movie_info to a CSV file and then reloading it into a new DataFrame movie_info\n",
    "movie_info.to_csv('clean_movie_budgets.csv', index=False)\n",
    "clean_movie_info = pd.read_csv('clean_movie_budgets.csv')\n",
    "clean_movie_info"
   ]
  },
  {
   "cell_type": "markdown",
   "metadata": {},
   "source": [
    "All files being used have been now been cleaned and can be use for data analysis"
   ]
  },
  {
   "cell_type": "markdown",
   "metadata": {},
   "source": [
    "# Data Analysis\n"
   ]
  },
  {
   "cell_type": "markdown",
   "metadata": {},
   "source": [
    "We will calculate the correlation between runtime and gross as well as budget to gross. We will use both Pearson and Spearman's correlation coefficient for a more reliable result"
   ]
  },
  {
   "cell_type": "code",
   "execution_count": 334,
   "metadata": {},
   "outputs": [
    {
     "name": "stdout",
     "output_type": "stream",
     "text": [
      "The Pearson correlation between runtime and gross is: 0.21995170240736545\n",
      "The Pearson correlation between budget and gross is: 0.6711098549674701\n"
     ]
    }
   ],
   "source": [
    "#Calculating Pearson correlation coefficient for both 'movie_info' and 'movie_budgets'\n",
    "movie_info_pearson_corr = movie_info['runtime'].corr(movie_info['box_office'])\n",
    "print ('The Pearson correlation between runtime and gross is:', movie_info_pearson_corr)\n",
    "\n",
    "budget_pearson_corr = movie_budgets['production_budget'].corr(movie_budgets['total_gross'])\n",
    "print ('The Pearson correlation between budget and gross is:',budget_pearson_corr)"
   ]
  },
  {
   "cell_type": "code",
   "execution_count": 335,
   "metadata": {},
   "outputs": [
    {
     "name": "stdout",
     "output_type": "stream",
     "text": [
      "The Spearman correlation between runtime and gross is: 0.170218625644249\n",
      "The Spearman correlation between budget and gross is: 0.72791854688128\n"
     ]
    }
   ],
   "source": [
    "# Calculate Spearman rank correlation coefficient\n",
    "movie_info_spearman_corr = movie_info['runtime'].corr(movie_info['box_office'], method='spearman')\n",
    "print ('The Spearman correlation between runtime and gross is:',movie_info_spearman_corr)\n",
    "\n",
    "budgets_spearman_corr = movie_budgets['production_budget'].corr(movie_budgets['total_gross'], method='spearman')\n",
    "print ('The Spearman correlation between budget and gross is:', budgets_spearman_corr)\n"
   ]
  },
  {
   "cell_type": "markdown",
   "metadata": {},
   "source": [
    "The correlations between runtime and gross are positive but not strong and therefore we can no with confidence say that runtime positively affects correlation as the relationship is very weak.\n",
    "\n",
    "However the correlations between budget and gross are very strongly positive. This suggests movies with bigger budgets tend to earn more money."
   ]
  },
  {
   "cell_type": "markdown",
   "metadata": {},
   "source": [
    "Now we want to see if which studio has the most success in making movies"
   ]
  },
  {
   "cell_type": "code",
   "execution_count": 336,
   "metadata": {},
   "outputs": [
    {
     "name": "stdout",
     "output_type": "stream",
     "text": [
      "        domestic_gross  foreign_gross    year   total_gross\n",
      "studio                                                     \n",
      "BV        1.841903e+10   2.579385e+10  213451  4.421288e+10\n",
      "Fox       1.094950e+10   2.005587e+10  273882  3.100537e+10\n",
      "WB        1.216805e+10   1.866790e+10  281941  3.083595e+10\n",
      "Uni.      1.290239e+10   1.685477e+10  296082  2.975716e+10\n",
      "Sony      8.461083e+09   1.394535e+10  221575  2.240644e+10\n"
     ]
    }
   ],
   "source": [
    "#We begin by extracting the columns 'studio' and 'gross'\n",
    "studio_gross = Bom_movies[['studio', 'total_gross']]\n",
    "\n",
    "#Group by 'studio' and aggregate 'gross' to find total gross for each studio\n",
    "studio_gross_total = Bom_movies.groupby('studio').sum()\n",
    "\n",
    "#Sort by total gross in descending order and select top 5 studios\n",
    "top_5_studios = studio_gross_total.nlargest(5, 'total_gross')\n",
    "\n",
    "print(top_5_studios)"
   ]
  },
  {
   "cell_type": "code",
   "execution_count": 337,
   "metadata": {},
   "outputs": [
    {
     "name": "stdout",
     "output_type": "stream",
     "text": [
      "                                                      id    box_office  \\\n",
      "genre                                                                    \n",
      "Comedy                                            112938  1.840714e+09   \n",
      "Drama                                             154826  1.122017e+09   \n",
      "Action and Adventure|Science Fiction and Fantasy   25038  9.940836e+08   \n",
      "Action and Adventure|Drama|Mystery and Suspense    45596  8.795623e+08   \n",
      "Comedy|Romance                                     30028  7.487263e+08   \n",
      "\n",
      "                                                  runtime  \n",
      "genre                                                      \n",
      "Comedy                                            10324.0  \n",
      "Drama                                             15964.0  \n",
      "Action and Adventure|Science Fiction and Fantasy   2666.0  \n",
      "Action and Adventure|Drama|Mystery and Suspense    4374.0  \n",
      "Comedy|Romance                                     3279.0  \n"
     ]
    }
   ],
   "source": [
    "Genre = movie_info[['genre', 'box_office']]\n",
    "\n",
    "#Group by 'studio' and aggregate 'gross' to find total gross for each studio\n",
    "genre_gross_total = movie_info.groupby('genre').sum()\n",
    "\n",
    "#Sort by total gross in descending order and select top 5 studios\n",
    "top_5_genres = genre_gross_total.nlargest(5, 'box_office')\n",
    "\n",
    "print(top_5_genres)"
   ]
  },
  {
   "cell_type": "markdown",
   "metadata": {},
   "source": [
    "From this analysis we can see that BV(Disney) is the highest earning studio by over a billion.\n",
    "We can also determine that Comedy is the genre that performs the best\n"
   ]
  },
  {
   "cell_type": "markdown",
   "metadata": {},
   "source": [
    "# Visualization"
   ]
  },
  {
   "cell_type": "markdown",
   "metadata": {},
   "source": [
    "In this section we visualize the data inorder to make it readable and presentable at a glance "
   ]
  },
  {
   "cell_type": "code",
   "execution_count": 338,
   "metadata": {},
   "outputs": [
    {
     "data": {
      "image/png": "[encoded data removed]",
      "text/plain": [
       "<Figure size 432x288 with 1 Axes>"
      ]
     },
     "metadata": {
      "needs_background": "light"
     },
     "output_type": "display_data"
    },
    {
     "data": {
      "image/png": "[encoded data removed]",
      "text/plain": [
       "<Figure size 432x288 with 1 Axes>"
      ]
     },
     "metadata": {
      "needs_background": "light"
     },
     "output_type": "display_data"
    }
   ],
   "source": [
    "#Plotting Spearman correlation to see the relationship between run time and box office gross\n",
    "sns.scatterplot(x='runtime', y='box_office', data=movie_info)\n",
    "plt.title('Movie_info Spearman Correlation')\n",
    "plt.xlabel('runtime')\n",
    "plt.ylabel('box Office')\n",
    "plt.show()\n",
    "\n",
    "# Plotting Pearson correlation to see the relationship between run time and box office gross\n",
    "sns.scatterplot(x='runtime', y='box_office', data=movie_info)\n",
    "plt.title('Movie_info Pearson Correlation')\n",
    "plt.xlabel('Runtime')\n",
    "plt.ylabel('box Office')\n",
    "plt.show()\n"
   ]
  },
  {
   "cell_type": "code",
   "execution_count": 339,
   "metadata": {},
   "outputs": [
    {
     "data": {
      "image/png": "[encoded data removed]",
      "text/plain": [
       "<Figure size 432x288 with 1 Axes>"
      ]
     },
     "metadata": {
      "needs_background": "light"
     },
     "output_type": "display_data"
    },
    {
     "data": {
      "image/png": "[encoded data removed]",
      "text/plain": [
       "<Figure size 432x288 with 1 Axes>"
      ]
     },
     "metadata": {
      "needs_background": "light"
     },
     "output_type": "display_data"
    }
   ],
   "source": [
    "#Plotting Spearman correlation to see the relationship between production budget and total gross\n",
    "sns.scatterplot(x='production_budget', y='total_gross', data=movie_budgets)\n",
    "plt.title('Movie_budgets Spearman Correlation')\n",
    "plt.xlabel('Production budget')\n",
    "plt.ylabel('gross')\n",
    "plt.show()\n",
    "\n",
    "# Plotting Pearson correlation to see the relationship between production budget and total gross\n",
    "sns.scatterplot(x='production_budget', y='total_gross', data=movie_budgets)\n",
    "plt.title('Movie_budgets Pearson Correlation')\n",
    "plt.xlabel('Production budget')\n",
    "plt.ylabel('gross')\n",
    "plt.show()"
   ]
  },
  {
   "cell_type": "code",
   "execution_count": 340,
   "metadata": {},
   "outputs": [
    {
     "data": {
      "image/png": "[encoded data removed]",
      "text/plain": [
       "<Figure size 720x432 with 1 Axes>"
      ]
     },
     "metadata": {
      "needs_background": "light"
     },
     "output_type": "display_data"
    }
   ],
   "source": [
    "#Bar graph to visualise the highest earning studios \n",
    "top_5_studios.plot(kind='bar', figsize=(10, 6))\n",
    "plt.title('Top 5 Studios by Total Gross')\n",
    "plt.xlabel('Studio')\n",
    "plt.ylabel('Total Gross (in billions)')\n",
    "plt.xticks(rotation=45)\n",
    "plt.show()"
   ]
  },
  {
   "cell_type": "code",
   "execution_count": 341,
   "metadata": {},
   "outputs": [
    {
     "data": {
      "image/png": "[encoded data removed]",
      "text/plain": [
       "<Figure size 720x432 with 1 Axes>"
      ]
     },
     "metadata": {
      "needs_background": "light"
     },
     "output_type": "display_data"
    }
   ],
   "source": [
    "#Bar graph to visualise the highest earning genres\n",
    "top_5_genres.plot(kind='bar', figsize=(10, 6))\n",
    "plt.title('Top 5 highest grossing genres')\n",
    "plt.xlabel('Genre')\n",
    "plt.ylabel('Box office (in billions)')\n",
    "plt.xticks(rotation=45, ha='right')\n",
    "plt.tight_layout()\n",
    "plt.show()"
   ]
  },
  {
   "cell_type": "markdown",
   "metadata": {},
   "source": [
    "# Conclusions\n",
    "There are four key recommendations from analyizing the data:\n",
    "1. **Microsoft's Flexibility Regarding Movie Length**:\n",
    "   - Microsoft's involvement in the film industry offers a unique opportunity to explore different approaches to movie length without being constrained by traditional norms. Unlike traditional studios, Microsoft does not need to adhere to a specific movie length to ensure success. Whether a film is long or short may not significantly affect its overall growth or reception by audiences. This flexibility allows Microsoft to experiment with storytelling formats and cater to diverse audience preferences without the pressure of conforming to established conventions.\n",
    "\n",
    "2. **Investment Strategy and Revenue Potential**:\n",
    "   - To maximize revenue potential from their film ventures, Microsoft should adopt a strategic approach to investment, recognizing that higher-budget productions often yield greater returns. By investing substantially in film budgets, Microsoft can enhance production values, attract top talent, and create high-quality cinematic experiences that resonate with audiences worldwide. This willingness to invest significantly in their film projects can position Microsoft as a major player in the industry and pave the way for blockbuster successes.\n",
    "\n",
    "3. **Emulating Successful Studios Like Disney**:\n",
    "   - Microsoft can learn valuable lessons from successful studios like Disney, particularly in terms of brand building, content creation, and market dominance. Emulating Disney's strategies, such as recruiting experienced executives from the company or developing intellectual properties (IPs) with similar prestige and appeal, can bolster Microsoft's standing in the film industry. By leveraging Disney's proven formula for success, Microsoft can increase its market share and compete more effectively in an industry where Disney consistently outperforms its rivals by substantial margins.\n",
    "\n",
    "4. **Focusing on High-Grossing Genres, Particularly Comedy**:\n",
    "   - Analyzing trends in box office performance reveals that comedy films consistently rank among the highest-grossing genres. Recognizing this trend, Microsoft should prioritize the production of comedy films to capitalize on their commercial appeal and audience demand. By creating entertaining and humorous content that resonates with viewers, Microsoft can tap into a lucrative market segment and generate significant revenue streams. Moreover, comedy films often have broad demographic appeal, making them accessible to diverse audiences worldwide and enhancing Microsoft's global reach and profitability in the film industry."
   ]
  },
  {
   "cell_type": "markdown",
   "metadata": {},
   "source": [
    "# Potential limitations \n",
    "- Correlation is not causation \n",
    "- Data does not take into account other factors contibuting to a films success such as a film's critical reception,   innovative marketing strategies and cultural relevance \n",
    "- Data excludes popular films that are streamed but not released in theatres (Netflix films)\n",
    "There may be hidden costs that arent included in film budgets such as marketing\n"
   ]
  }
 ],
 "metadata": {
  "kernelspec": {
   "display_name": "Python (learn-env)",
   "language": "python",
   "name": "learn-env"
  },
  "language_info": {
   "codemirror_mode": {
    "name": "ipython",
    "version": 3
   },
   "file_extension": ".py",
   "mimetype": "text/x-python",
   "name": "python",
   "nbconvert_exporter": "python",
   "pygments_lexer": "ipython3",
   "version": "3.8.5"
  }
 },
 "nbformat": 4,
 "nbformat_minor": 2
}
