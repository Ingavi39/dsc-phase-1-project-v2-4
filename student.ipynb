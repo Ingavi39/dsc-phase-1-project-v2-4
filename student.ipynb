{
 "cells": [
  {
   "cell_type": "markdown",
   "metadata": {},
   "source": [
    "## Final Project Submission\n",
    "\n",
    "Please fill out:\n",
    "* Student name: Ingavi Kilavuka\n",
    "* Student pace: full time\n",
    "* Scheduled project review date/time:\n",
    "* Instructor name: Mwikali \n",
    "* Blog post URL:\n"
   ]
  },
  {
   "cell_type": "markdown",
   "metadata": {},
   "source": [
    "## Overview  \n",
    "\n"
   ]
  },
  {
   "cell_type": "markdown",
   "metadata": {},
   "source": [
    "## Business Understanding\n",
    "Microsoft would like to move into the movie industry as they can see other companies thriving. \n",
    "They are in need of assitance to know what type of movies do well at the box office.\n",
    "\n"
   ]
  },
  {
   "cell_type": "markdown",
   "metadata": {},
   "source": [
    "## Data Understanding\n"
   ]
  },
  {
   "cell_type": "code",
   "execution_count": 129,
   "metadata": {},
   "outputs": [],
   "source": [
    "#importing neccessary libraries\n",
    "import pandas as pd\n",
    "import numpy as np\n",
    "import matplotlib.pyplot as plt\n",
    "import seaborn as sns \n",
    "import sqlite3\n",
    "\n",
    "%matplotlib inline "
   ]
  },
  {
   "cell_type": "code",
   "execution_count": 137,
   "metadata": {},
   "outputs": [],
   "source": [
    "# Import CSV files\n",
    "Bom_movies = pd.read_csv(r\"C:\\Users\\HomePC\\Documents\\Flatiron\\course_materials\\Phase_01\\dsc-phase-1-project-v2-4\\zippedData\\bom.movie_gross.csv.gz\")\n",
    "movie_info = pd.read_csv(r\"C:\\Users\\HomePC\\Documents\\Flatiron\\course_materials\\Phase_01\\dsc-phase-1-project-v2-4\\zippedData\\rt.movie_info.tsv.gz\", sep='\\t')\n",
    "TMDB_movies = pd.read_csv(r\"C:\\Users\\HomePC\\Documents\\Flatiron\\course_materials\\Phase_01\\dsc-phase-1-project-v2-4\\zippedData\\tmdb.movies.csv.gz\")\n",
    "movie_budgets = pd.read_csv(r\"C:\\Users\\HomePC\\Documents\\Flatiron\\course_materials\\Phase_01\\dsc-phase-1-project-v2-4\\zippedData\\tn.movie_budgets.csv.gz\")"
   ]
  },
  {
   "cell_type": "code",
   "execution_count": 138,
   "metadata": {},
   "outputs": [],
   "source": [
    "# Imported the IMDB file from sqlite database\n",
    "\n",
    "# imdb_data = sqlite3.connect(r\"C:\\Users\\HomePC\\Documents\\Flatiron\\course_materials\\Phase_01\\dsc-phase-1-project-v2-4\\zippedData\\im.db.zip\")\n",
    "# movie_basics_df = pd.read_sql_query(\"SELECT * FROM movie_basics\", imdb_data)\n",
    "# movie_ratings_df = pd.read_sql_query(\"SELECT * FROM movie_ratings\", imdb_data)"
   ]
  },
  {
   "cell_type": "markdown",
   "metadata": {},
   "source": []
  },
  {
   "cell_type": "markdown",
   "metadata": {},
   "source": [
    "### In this next section, \n",
    "I wanted to pick the two datasets that had the largest size as they have highest statistical power. These data sets will be more reliable as they are a better reflector of the reality of the movie industry. * add notes on info"
   ]
  },
  {
   "cell_type": "code",
   "execution_count": 139,
   "metadata": {},
   "outputs": [
    {
     "name": "stdout",
     "output_type": "stream",
     "text": [
      "Number of rows: 3387\n",
      "Number of columns: 5\n",
      "All elements: 16935\n",
      "Data information: <bound method DataFrame.info of                                             title      studio  domestic_gross  \\\n",
      "0                                     Toy Story 3          BV     415000000.0   \n",
      "1                      Alice in Wonderland (2010)          BV     334200000.0   \n",
      "2     Harry Potter and the Deathly Hallows Part 1          WB     296000000.0   \n",
      "3                                       Inception          WB     292600000.0   \n",
      "4                             Shrek Forever After        P/DW     238700000.0   \n",
      "...                                           ...         ...             ...   \n",
      "3382                                    The Quake       Magn.          6200.0   \n",
      "3383                  Edward II (2018 re-release)          FM          4800.0   \n",
      "3384                                     El Pacto        Sony          2500.0   \n",
      "3385                                     The Swan  Synergetic          2400.0   \n",
      "3386                            An Actor Prepares       Grav.          1700.0   \n",
      "\n",
      "     foreign_gross  year  \n",
      "0        652000000  2010  \n",
      "1        691300000  2010  \n",
      "2        664300000  2010  \n",
      "3        535700000  2010  \n",
      "4        513900000  2010  \n",
      "...            ...   ...  \n",
      "3382           NaN  2018  \n",
      "3383           NaN  2018  \n",
      "3384           NaN  2018  \n",
      "3385           NaN  2018  \n",
      "3386           NaN  2018  \n",
      "\n",
      "[3387 rows x 5 columns]>\n"
     ]
    }
   ],
   "source": [
    "# Getting the size of of Bom movies data \n",
    "Bom_movies = pd.read_csv(r\"C:\\Users\\HomePC\\Documents\\Flatiron\\course_materials\\Phase_01\\dsc-phase-1-project-v2-4\\zippedData\\bom.movie_gross.csv.gz\")\n",
    "\n",
    "num_rows, num_columns = bom_movies.shape\n",
    "print(\"Number of rows:\", num_rows)\n",
    "print(\"Number of columns:\", num_columns)\n",
    "\n",
    "#To mulptiply both rows and columns to gauge an understand of how many elements we are dealing with\n",
    "\n",
    "Multiplied_elements = num_rows * num_columns\n",
    "print(\"All elements:\", Multiplied_elements)\n",
    "print(\"Data information:\", bom_movies.info) \n"
   ]
  },
  {
   "cell_type": "code",
   "execution_count": 140,
   "metadata": {},
   "outputs": [
    {
     "name": "stdout",
     "output_type": "stream",
     "text": [
      "Number of rows: 26517\n",
      "Number of columns: 10\n",
      "All elements: 265170\n",
      "Data information: <bound method DataFrame.info of        Unnamed: 0            genre_ids      id original_language  \\\n",
      "0               0      [12, 14, 10751]   12444                en   \n",
      "1               1  [14, 12, 16, 10751]   10191                en   \n",
      "2               2        [12, 28, 878]   10138                en   \n",
      "3               3      [16, 35, 10751]     862                en   \n",
      "4               4        [28, 878, 12]   27205                en   \n",
      "...           ...                  ...     ...               ...   \n",
      "26512       26512             [27, 18]  488143                en   \n",
      "26513       26513             [18, 53]  485975                en   \n",
      "26514       26514         [14, 28, 12]  381231                en   \n",
      "26515       26515      [10751, 12, 28]  366854                en   \n",
      "26516       26516             [53, 27]  309885                en   \n",
      "\n",
      "                                     original_title  popularity release_date  \\\n",
      "0      Harry Potter and the Deathly Hallows: Part 1      33.533   2010-11-19   \n",
      "1                          How to Train Your Dragon      28.734   2010-03-26   \n",
      "2                                        Iron Man 2      28.515   2010-05-07   \n",
      "3                                         Toy Story      28.005   1995-11-22   \n",
      "4                                         Inception      27.920   2010-07-16   \n",
      "...                                             ...         ...          ...   \n",
      "26512                         Laboratory Conditions       0.600   2018-10-13   \n",
      "26513                               _EXHIBIT_84xxx_       0.600   2018-05-01   \n",
      "26514                                  The Last One       0.600   2018-10-01   \n",
      "26515                                  Trailer Made       0.600   2018-06-22   \n",
      "26516                                    The Church       0.600   2018-10-05   \n",
      "\n",
      "                                              title  vote_average  vote_count  \n",
      "0      Harry Potter and the Deathly Hallows: Part 1           7.7       10788  \n",
      "1                          How to Train Your Dragon           7.7        7610  \n",
      "2                                        Iron Man 2           6.8       12368  \n",
      "3                                         Toy Story           7.9       10174  \n",
      "4                                         Inception           8.3       22186  \n",
      "...                                             ...           ...         ...  \n",
      "26512                         Laboratory Conditions           0.0           1  \n",
      "26513                               _EXHIBIT_84xxx_           0.0           1  \n",
      "26514                                  The Last One           0.0           1  \n",
      "26515                                  Trailer Made           0.0           1  \n",
      "26516                                    The Church           0.0           1  \n",
      "\n",
      "[26517 rows x 10 columns]>\n"
     ]
    }
   ],
   "source": [
    "# Getting the size of of TMDB movies data \n",
    "TMDB_movies = pd.read_csv(r\"C:\\Users\\HomePC\\Documents\\Flatiron\\course_materials\\Phase_01\\dsc-phase-1-project-v2-4\\zippedData\\tmdb.movies.csv.gz\")\n",
    "\n",
    "num_rows, num_columns = TMDB_movies.shape\n",
    "print(\"Number of rows:\", num_rows)\n",
    "print(\"Number of columns:\", num_columns)\n",
    "\n",
    "#To mulptiply both rows and columns to gauge an understand of how many elements we are dealing with\n",
    "\n",
    "Multiplied_elements = num_rows * num_columns\n",
    "print(\"All elements:\", Multiplied_elements) \n",
    "print(\"Data information:\", TMDB_movies.info)"
   ]
  },
  {
   "cell_type": "code",
   "execution_count": 141,
   "metadata": {},
   "outputs": [
    {
     "name": "stdout",
     "output_type": "stream",
     "text": [
      "Number of rows: 1560\n",
      "Number of columns: 12\n",
      "All elements: 18720\n",
      "Data information: <bound method DataFrame.info of         id                                           synopsis rating  \\\n",
      "0        1  This gritty, fast-paced, and innovative police...      R   \n",
      "1        3  New York City, not-too-distant-future: Eric Pa...      R   \n",
      "2        5  Illeana Douglas delivers a superb performance ...      R   \n",
      "3        6  Michael Douglas runs afoul of a treacherous su...      R   \n",
      "4        7                                                NaN     NR   \n",
      "...    ...                                                ...    ...   \n",
      "1555  1996  Forget terrorists or hijackers -- there's a ha...      R   \n",
      "1556  1997  The popular Saturday Night Live sketch was exp...     PG   \n",
      "1557  1998  Based on a novel by Richard Powell, when the l...      G   \n",
      "1558  1999  The Sandlot is a coming-of-age story about a g...     PG   \n",
      "1559  2000  Suspended from the force, Paris cop Hubert is ...      R   \n",
      "\n",
      "                                                  genre            director  \\\n",
      "0                   Action and Adventure|Classics|Drama    William Friedkin   \n",
      "1                     Drama|Science Fiction and Fantasy    David Cronenberg   \n",
      "2                     Drama|Musical and Performing Arts      Allison Anders   \n",
      "3                            Drama|Mystery and Suspense      Barry Levinson   \n",
      "4                                         Drama|Romance      Rodney Bennett   \n",
      "...                                                 ...                 ...   \n",
      "1555   Action and Adventure|Horror|Mystery and Suspense                 NaN   \n",
      "1556                 Comedy|Science Fiction and Fantasy        Steve Barron   \n",
      "1557  Classics|Comedy|Drama|Musical and Performing Arts      Gordon Douglas   \n",
      "1558    Comedy|Drama|Kids and Family|Sports and Fitness  David Mickey Evans   \n",
      "1559  Action and Adventure|Art House and Internation...                 NaN   \n",
      "\n",
      "                                                writer  theater_date  \\\n",
      "0                                       Ernest Tidyman   Oct 9, 1971   \n",
      "1                         David Cronenberg|Don DeLillo  Aug 17, 2012   \n",
      "2                                       Allison Anders  Sep 13, 1996   \n",
      "3                      Paul Attanasio|Michael Crichton   Dec 9, 1994   \n",
      "4                                         Giles Cooper           NaN   \n",
      "...                                                ...           ...   \n",
      "1555                                               NaN  Aug 18, 2006   \n",
      "1556  Terry Turner|Tom Davis|Dan Aykroyd|Bonnie Turner  Jul 23, 1993   \n",
      "1557                                               NaN   Jan 1, 1962   \n",
      "1558                  David Mickey Evans|Robert Gunter   Apr 1, 1993   \n",
      "1559                                        Luc Besson  Sep 27, 2001   \n",
      "\n",
      "          dvd_date currency  box_office      runtime             studio  \n",
      "0     Sep 25, 2001      NaN         NaN  104 minutes                NaN  \n",
      "1      Jan 1, 2013        $     600,000  108 minutes  Entertainment One  \n",
      "2     Apr 18, 2000      NaN         NaN  116 minutes                NaN  \n",
      "3     Aug 27, 1997      NaN         NaN  128 minutes                NaN  \n",
      "4              NaN      NaN         NaN  200 minutes                NaN  \n",
      "...            ...      ...         ...          ...                ...  \n",
      "1555   Jan 2, 2007        $  33,886,034  106 minutes    New Line Cinema  \n",
      "1556  Apr 17, 2001      NaN         NaN   88 minutes  Paramount Vantage  \n",
      "1557  May 11, 2004      NaN         NaN  111 minutes                NaN  \n",
      "1558  Jan 29, 2002      NaN         NaN  101 minutes                NaN  \n",
      "1559  Feb 11, 2003      NaN         NaN   94 minutes  Columbia Pictures  \n",
      "\n",
      "[1560 rows x 12 columns]>\n"
     ]
    }
   ],
   "source": [
    "# Getting the size of of movie_info data \n",
    "movie_info = pd.read_csv(r\"C:\\Users\\HomePC\\Documents\\Flatiron\\course_materials\\Phase_01\\dsc-phase-1-project-v2-4\\zippedData\\rt.movie_info.tsv.gz\", sep='\\t')\n",
    "\n",
    "num_rows, num_columns = movie_info.shape\n",
    "print(\"Number of rows:\", num_rows)\n",
    "print(\"Number of columns:\", num_columns)\n",
    "\n",
    "#To mulptiply both rows and columns to gauge an understand of how many elements we are dealing with\n",
    "\n",
    "Multiplied_elements = num_rows * num_columns\n",
    "print(\"All elements:\", Multiplied_elements) \n",
    "print(\"Data information:\", movie_info.info)"
   ]
  },
  {
   "cell_type": "code",
   "execution_count": 142,
   "metadata": {},
   "outputs": [
    {
     "name": "stdout",
     "output_type": "stream",
     "text": [
      "Number of rows: 5782\n",
      "Number of columns: 6\n",
      "All elements: 34692\n",
      "Data information: <bound method DataFrame.info of       id  release_date                                        movie  \\\n",
      "0      1  Dec 18, 2009                                       Avatar   \n",
      "1      2  May 20, 2011  Pirates of the Caribbean: On Stranger Tides   \n",
      "2      3   Jun 7, 2019                                 Dark Phoenix   \n",
      "3      4   May 1, 2015                      Avengers: Age of Ultron   \n",
      "4      5  Dec 15, 2017            Star Wars Ep. VIII: The Last Jedi   \n",
      "...   ..           ...                                          ...   \n",
      "5777  78  Dec 31, 2018                                       Red 11   \n",
      "5778  79   Apr 2, 1999                                    Following   \n",
      "5779  80  Jul 13, 2005                Return to the Land of Wonders   \n",
      "5780  81  Sep 29, 2015                         A Plague So Pleasant   \n",
      "5781  82   Aug 5, 2005                            My Date With Drew   \n",
      "\n",
      "     production_budget domestic_gross worldwide_gross  \n",
      "0         $425,000,000   $760,507,625  $2,776,345,279  \n",
      "1         $410,600,000   $241,063,875  $1,045,663,875  \n",
      "2         $350,000,000    $42,762,350    $149,762,350  \n",
      "3         $330,600,000   $459,005,868  $1,403,013,963  \n",
      "4         $317,000,000   $620,181,382  $1,316,721,747  \n",
      "...                ...            ...             ...  \n",
      "5777            $7,000             $0              $0  \n",
      "5778            $6,000        $48,482        $240,495  \n",
      "5779            $5,000         $1,338          $1,338  \n",
      "5780            $1,400             $0              $0  \n",
      "5781            $1,100       $181,041        $181,041  \n",
      "\n",
      "[5782 rows x 6 columns]>\n"
     ]
    }
   ],
   "source": [
    "# Getting the size of of movie_budgets data \n",
    "movie_budgets = pd.read_csv(r\"C:\\Users\\HomePC\\Documents\\Flatiron\\course_materials\\Phase_01\\dsc-phase-1-project-v2-4\\zippedData\\tn.movie_budgets.csv.gz\")\n",
    "\n",
    "num_rows, num_columns = movie_budgets.shape\n",
    "print(\"Number of rows:\", num_rows)\n",
    "print(\"Number of columns:\", num_columns)\n",
    "\n",
    "#To mulptiply both rows and columns to gauge an understand of how many elements we are dealing with\n",
    "\n",
    "Multiplied_elements = num_rows * num_columns\n",
    "print(\"All elements:\", Multiplied_elements) \n",
    "print(\"Data information:\", movie_budgets.info)"
   ]
  },
  {
   "cell_type": "markdown",
   "metadata": {},
   "source": [
    "*EXPLAINATION ON HOW THE TOP IS QUANTITATIVE AND THE BOTTOM IS QUALITATIVE, the bottom is an explnation on what you column "
   ]
  },
  {
   "cell_type": "code",
   "execution_count": 143,
   "metadata": {},
   "outputs": [
    {
     "name": "stdout",
     "output_type": "stream",
     "text": [
      "Columns_for_movies_budget: Index(['id', 'release_date', 'movie', 'production_budget', 'domestic_gross',\n",
      "       'worldwide_gross'],\n",
      "      dtype='object')\n",
      "Columns_for_Bom_movies: Index(['title', 'studio', 'domestic_gross', 'foreign_gross', 'year'], dtype='object')\n",
      "Columns_for_movie_info: Index(['id', 'synopsis', 'rating', 'genre', 'director', 'writer',\n",
      "       'theater_date', 'dvd_date', 'currency', 'box_office', 'runtime',\n",
      "       'studio'],\n",
      "      dtype='object')\n",
      "Columns_for_TMDB: Index(['Unnamed: 0', 'genre_ids', 'id', 'original_language', 'original_title',\n",
      "       'popularity', 'release_date', 'title', 'vote_average', 'vote_count'],\n",
      "      dtype='object')\n"
     ]
    }
   ],
   "source": [
    "#COLUMN DESCRIPTIONS\n",
    "print('Columns_for_movies_budget:', movie_budgets.columns) \n",
    "print('Columns_for_Bom_movies:', Bom_movies.columns) \n",
    "print('Columns_for_movie_info:', movie_info.columns) \n",
    "print('Columns_for_TMDB:', TMDB_movies.columns)"
   ]
  },
  {
   "cell_type": "code",
   "execution_count": null,
   "metadata": {},
   "outputs": [],
   "source": []
  },
  {
   "cell_type": "markdown",
   "metadata": {},
   "source": [
    "Since what we are looking for needs to help us find the profit, we need a dataset with the budget, a dataset with the gross and a dataset(s) with the genre(to see which genre sells best), studio(Which studio to emulate) and runtime(How long the highest grossing are). The best data sets to use will be\n",
    "- Movie_budgets as it gives use both domestic and worldwide gross, as well as the movie budget\n",
    "- Movies_info as it gives use the runtime, age rating as well as the genre of the movie\n",
    "- Bom_movies can be used to confirm that all the data is reliable (through cross checking) "
   ]
  },
  {
   "cell_type": "markdown",
   "metadata": {},
   "source": [
    "*DESCRIBE THE LIMITATIONS OF THE DATA"
   ]
  },
  {
   "cell_type": "markdown",
   "metadata": {},
   "source": [
    "## Data preparation \n",
    "This includes merging and cleaning the data for analysis "
   ]
  },
  {
   "cell_type": "markdown",
   "metadata": {},
   "source": [
    "### DATA CLEANING"
   ]
  },
  {
   "cell_type": "code",
   "execution_count": 144,
   "metadata": {},
   "outputs": [],
   "source": [
    "#Cleaning the bom.movie_gross.csv\n",
    "# Drop rows with missing values in the 'studio' column\n",
    "Bom_movies.dropna(subset=['studio'], inplace=True)\n",
    "\n",
    "# Fill missing values in 'domestic_gross' with the median\n",
    "Bom_movies['domestic_gross'].fillna(Bom_movies['domestic_gross'].median(), inplace=True)\n",
    "\n",
    "# Convert 'foreign_gross' to numeric and fill missing values with 0\n",
    "Bom_movies['foreign_gross'] = pd.to_numeric(Bom_movies['foreign_gross'], errors='coerce').fillna(0)\n",
    "\n",
    "# Suppose you have two columns 'column1' and 'column2' in your DataFrame\n",
    "# You want to sum them up and store the result in a new column 'sum_result'\n",
    "\n",
    "# Sum up the two columns and store the result in a new column\n",
    "Bom_movies['total_gross'] = Bom_movies['foreign_gross'] + Bom_movies['domestic_gross']\n",
    "\n",
    "# Now 'sum_result' contains the sum of 'column1' and 'column2'\n"
   ]
  },
  {
   "cell_type": "code",
   "execution_count": 145,
   "metadata": {},
   "outputs": [
    {
     "data": {
      "text/html": [
       "<div>\n",
       "<style scoped>\n",
       "    .dataframe tbody tr th:only-of-type {\n",
       "        vertical-align: middle;\n",
       "    }\n",
       "\n",
       "    .dataframe tbody tr th {\n",
       "        vertical-align: top;\n",
       "    }\n",
       "\n",
       "    .dataframe thead th {\n",
       "        text-align: right;\n",
       "    }\n",
       "</style>\n",
       "<table border=\"1\" class=\"dataframe\">\n",
       "  <thead>\n",
       "    <tr style=\"text-align: right;\">\n",
       "      <th></th>\n",
       "      <th>title</th>\n",
       "      <th>studio</th>\n",
       "      <th>domestic_gross</th>\n",
       "      <th>foreign_gross</th>\n",
       "      <th>year</th>\n",
       "      <th>total_gross</th>\n",
       "    </tr>\n",
       "  </thead>\n",
       "  <tbody>\n",
       "    <tr>\n",
       "      <th>0</th>\n",
       "      <td>Toy Story 3</td>\n",
       "      <td>BV</td>\n",
       "      <td>415000000.0</td>\n",
       "      <td>652000000.0</td>\n",
       "      <td>2010</td>\n",
       "      <td>1.067000e+09</td>\n",
       "    </tr>\n",
       "    <tr>\n",
       "      <th>1</th>\n",
       "      <td>Alice in Wonderland (2010)</td>\n",
       "      <td>BV</td>\n",
       "      <td>334200000.0</td>\n",
       "      <td>691300000.0</td>\n",
       "      <td>2010</td>\n",
       "      <td>1.025500e+09</td>\n",
       "    </tr>\n",
       "    <tr>\n",
       "      <th>2</th>\n",
       "      <td>Harry Potter and the Deathly Hallows Part 1</td>\n",
       "      <td>WB</td>\n",
       "      <td>296000000.0</td>\n",
       "      <td>664300000.0</td>\n",
       "      <td>2010</td>\n",
       "      <td>9.603000e+08</td>\n",
       "    </tr>\n",
       "    <tr>\n",
       "      <th>3</th>\n",
       "      <td>Inception</td>\n",
       "      <td>WB</td>\n",
       "      <td>292600000.0</td>\n",
       "      <td>535700000.0</td>\n",
       "      <td>2010</td>\n",
       "      <td>8.283000e+08</td>\n",
       "    </tr>\n",
       "    <tr>\n",
       "      <th>4</th>\n",
       "      <td>Shrek Forever After</td>\n",
       "      <td>P/DW</td>\n",
       "      <td>238700000.0</td>\n",
       "      <td>513900000.0</td>\n",
       "      <td>2010</td>\n",
       "      <td>7.526000e+08</td>\n",
       "    </tr>\n",
       "    <tr>\n",
       "      <th>...</th>\n",
       "      <td>...</td>\n",
       "      <td>...</td>\n",
       "      <td>...</td>\n",
       "      <td>...</td>\n",
       "      <td>...</td>\n",
       "      <td>...</td>\n",
       "    </tr>\n",
       "    <tr>\n",
       "      <th>3377</th>\n",
       "      <td>The Quake</td>\n",
       "      <td>Magn.</td>\n",
       "      <td>6200.0</td>\n",
       "      <td>0.0</td>\n",
       "      <td>2018</td>\n",
       "      <td>6.200000e+03</td>\n",
       "    </tr>\n",
       "    <tr>\n",
       "      <th>3378</th>\n",
       "      <td>Edward II (2018 re-release)</td>\n",
       "      <td>FM</td>\n",
       "      <td>4800.0</td>\n",
       "      <td>0.0</td>\n",
       "      <td>2018</td>\n",
       "      <td>4.800000e+03</td>\n",
       "    </tr>\n",
       "    <tr>\n",
       "      <th>3379</th>\n",
       "      <td>El Pacto</td>\n",
       "      <td>Sony</td>\n",
       "      <td>2500.0</td>\n",
       "      <td>0.0</td>\n",
       "      <td>2018</td>\n",
       "      <td>2.500000e+03</td>\n",
       "    </tr>\n",
       "    <tr>\n",
       "      <th>3380</th>\n",
       "      <td>The Swan</td>\n",
       "      <td>Synergetic</td>\n",
       "      <td>2400.0</td>\n",
       "      <td>0.0</td>\n",
       "      <td>2018</td>\n",
       "      <td>2.400000e+03</td>\n",
       "    </tr>\n",
       "    <tr>\n",
       "      <th>3381</th>\n",
       "      <td>An Actor Prepares</td>\n",
       "      <td>Grav.</td>\n",
       "      <td>1700.0</td>\n",
       "      <td>0.0</td>\n",
       "      <td>2018</td>\n",
       "      <td>1.700000e+03</td>\n",
       "    </tr>\n",
       "  </tbody>\n",
       "</table>\n",
       "<p>3382 rows × 6 columns</p>\n",
       "</div>"
      ],
      "text/plain": [
       "                                            title      studio  domestic_gross  \\\n",
       "0                                     Toy Story 3          BV     415000000.0   \n",
       "1                      Alice in Wonderland (2010)          BV     334200000.0   \n",
       "2     Harry Potter and the Deathly Hallows Part 1          WB     296000000.0   \n",
       "3                                       Inception          WB     292600000.0   \n",
       "4                             Shrek Forever After        P/DW     238700000.0   \n",
       "...                                           ...         ...             ...   \n",
       "3377                                    The Quake       Magn.          6200.0   \n",
       "3378                  Edward II (2018 re-release)          FM          4800.0   \n",
       "3379                                     El Pacto        Sony          2500.0   \n",
       "3380                                     The Swan  Synergetic          2400.0   \n",
       "3381                            An Actor Prepares       Grav.          1700.0   \n",
       "\n",
       "      foreign_gross  year   total_gross  \n",
       "0       652000000.0  2010  1.067000e+09  \n",
       "1       691300000.0  2010  1.025500e+09  \n",
       "2       664300000.0  2010  9.603000e+08  \n",
       "3       535700000.0  2010  8.283000e+08  \n",
       "4       513900000.0  2010  7.526000e+08  \n",
       "...             ...   ...           ...  \n",
       "3377            0.0  2018  6.200000e+03  \n",
       "3378            0.0  2018  4.800000e+03  \n",
       "3379            0.0  2018  2.500000e+03  \n",
       "3380            0.0  2018  2.400000e+03  \n",
       "3381            0.0  2018  1.700000e+03  \n",
       "\n",
       "[3382 rows x 6 columns]"
      ]
     },
     "execution_count": 145,
     "metadata": {},
     "output_type": "execute_result"
    }
   ],
   "source": [
    "Bom_movies.to_csv('clean_movie_budgets.csv', index=False)\n",
    "clean_Bom_movies = pd.read_csv('clean_movie_budgets.csv')\n",
    "clean_Bom_movies"
   ]
  },
  {
   "cell_type": "code",
   "execution_count": 146,
   "metadata": {},
   "outputs": [],
   "source": [
    "# Remove duplicates\n",
    "movie_budgets.drop_duplicates(inplace=True)\n",
    "\n",
    "#removing the columns tht have 0 as they do not fit into the criteria \n",
    "clean_movie_budgets = (movie_budgets['domestic_gross'] != 0) & (movie_budgets['worldwide_gross'] != 0)\n",
    "\n",
    "# Apply the condition to filter the DataFrame\n",
    "movie_budgets = movie_budgets[clean_movie_budgets]\n",
    "#Summing foreign and domestic gross\n",
    "movie_budgets['total_gross'] = movie_budgets['worldwide_gross'] + movie_budgets['domestic_gross']\n",
    "\n"
   ]
  },
  {
   "cell_type": "code",
   "execution_count": 147,
   "metadata": {},
   "outputs": [],
   "source": [
    "# Convert columns to appropriate data types\n",
    "# Converting the date and time to datatime format to make it easier to manipulate\n",
    "\n",
    "movie_budgets['release_date'] = pd.to_datetime(movie_budgets['release_date'])\n",
    "\n",
    "#converting all numericals from strings to floats to allow any neccessary mathematical operations to take place\n",
    "#removing the dollar sign and commas to allow for any necessary mathematical operations\n",
    "\n",
    "movie_budgets['production_budget'] = movie_budgets['production_budget'].str.replace('$', '').str.replace(',', '').astype(float)\n",
    "movie_budgets['domestic_gross'] = movie_budgets['domestic_gross'].str.replace('$', '').str.replace(',', '').astype(float)\n",
    "movie_budgets['worldwide_gross'] = movie_budgets['worldwide_gross'].str.replace('$', '').str.replace(',', '').astype(float)"
   ]
  },
  {
   "cell_type": "code",
   "execution_count": 148,
   "metadata": {},
   "outputs": [
    {
     "data": {
      "text/html": [
       "<div>\n",
       "<style scoped>\n",
       "    .dataframe tbody tr th:only-of-type {\n",
       "        vertical-align: middle;\n",
       "    }\n",
       "\n",
       "    .dataframe tbody tr th {\n",
       "        vertical-align: top;\n",
       "    }\n",
       "\n",
       "    .dataframe thead th {\n",
       "        text-align: right;\n",
       "    }\n",
       "</style>\n",
       "<table border=\"1\" class=\"dataframe\">\n",
       "  <thead>\n",
       "    <tr style=\"text-align: right;\">\n",
       "      <th></th>\n",
       "      <th>id</th>\n",
       "      <th>release_date</th>\n",
       "      <th>movie</th>\n",
       "      <th>production_budget</th>\n",
       "      <th>domestic_gross</th>\n",
       "      <th>worldwide_gross</th>\n",
       "      <th>total_gross</th>\n",
       "    </tr>\n",
       "  </thead>\n",
       "  <tbody>\n",
       "    <tr>\n",
       "      <th>0</th>\n",
       "      <td>1</td>\n",
       "      <td>2009-12-18</td>\n",
       "      <td>Avatar</td>\n",
       "      <td>425000000.0</td>\n",
       "      <td>760507625.0</td>\n",
       "      <td>2.776345e+09</td>\n",
       "      <td>$2,776,345,279$760,507,625</td>\n",
       "    </tr>\n",
       "    <tr>\n",
       "      <th>1</th>\n",
       "      <td>2</td>\n",
       "      <td>2011-05-20</td>\n",
       "      <td>Pirates of the Caribbean: On Stranger Tides</td>\n",
       "      <td>410600000.0</td>\n",
       "      <td>241063875.0</td>\n",
       "      <td>1.045664e+09</td>\n",
       "      <td>$1,045,663,875$241,063,875</td>\n",
       "    </tr>\n",
       "    <tr>\n",
       "      <th>2</th>\n",
       "      <td>3</td>\n",
       "      <td>2019-06-07</td>\n",
       "      <td>Dark Phoenix</td>\n",
       "      <td>350000000.0</td>\n",
       "      <td>42762350.0</td>\n",
       "      <td>1.497624e+08</td>\n",
       "      <td>$149,762,350$42,762,350</td>\n",
       "    </tr>\n",
       "    <tr>\n",
       "      <th>3</th>\n",
       "      <td>4</td>\n",
       "      <td>2015-05-01</td>\n",
       "      <td>Avengers: Age of Ultron</td>\n",
       "      <td>330600000.0</td>\n",
       "      <td>459005868.0</td>\n",
       "      <td>1.403014e+09</td>\n",
       "      <td>$1,403,013,963$459,005,868</td>\n",
       "    </tr>\n",
       "    <tr>\n",
       "      <th>4</th>\n",
       "      <td>5</td>\n",
       "      <td>2017-12-15</td>\n",
       "      <td>Star Wars Ep. VIII: The Last Jedi</td>\n",
       "      <td>317000000.0</td>\n",
       "      <td>620181382.0</td>\n",
       "      <td>1.316722e+09</td>\n",
       "      <td>$1,316,721,747$620,181,382</td>\n",
       "    </tr>\n",
       "    <tr>\n",
       "      <th>...</th>\n",
       "      <td>...</td>\n",
       "      <td>...</td>\n",
       "      <td>...</td>\n",
       "      <td>...</td>\n",
       "      <td>...</td>\n",
       "      <td>...</td>\n",
       "      <td>...</td>\n",
       "    </tr>\n",
       "    <tr>\n",
       "      <th>5777</th>\n",
       "      <td>78</td>\n",
       "      <td>2018-12-31</td>\n",
       "      <td>Red 11</td>\n",
       "      <td>7000.0</td>\n",
       "      <td>0.0</td>\n",
       "      <td>0.000000e+00</td>\n",
       "      <td>$0$0</td>\n",
       "    </tr>\n",
       "    <tr>\n",
       "      <th>5778</th>\n",
       "      <td>79</td>\n",
       "      <td>1999-04-02</td>\n",
       "      <td>Following</td>\n",
       "      <td>6000.0</td>\n",
       "      <td>48482.0</td>\n",
       "      <td>2.404950e+05</td>\n",
       "      <td>$240,495$48,482</td>\n",
       "    </tr>\n",
       "    <tr>\n",
       "      <th>5779</th>\n",
       "      <td>80</td>\n",
       "      <td>2005-07-13</td>\n",
       "      <td>Return to the Land of Wonders</td>\n",
       "      <td>5000.0</td>\n",
       "      <td>1338.0</td>\n",
       "      <td>1.338000e+03</td>\n",
       "      <td>$1,338$1,338</td>\n",
       "    </tr>\n",
       "    <tr>\n",
       "      <th>5780</th>\n",
       "      <td>81</td>\n",
       "      <td>2015-09-29</td>\n",
       "      <td>A Plague So Pleasant</td>\n",
       "      <td>1400.0</td>\n",
       "      <td>0.0</td>\n",
       "      <td>0.000000e+00</td>\n",
       "      <td>$0$0</td>\n",
       "    </tr>\n",
       "    <tr>\n",
       "      <th>5781</th>\n",
       "      <td>82</td>\n",
       "      <td>2005-08-05</td>\n",
       "      <td>My Date With Drew</td>\n",
       "      <td>1100.0</td>\n",
       "      <td>181041.0</td>\n",
       "      <td>1.810410e+05</td>\n",
       "      <td>$181,041$181,041</td>\n",
       "    </tr>\n",
       "  </tbody>\n",
       "</table>\n",
       "<p>5782 rows × 7 columns</p>\n",
       "</div>"
      ],
      "text/plain": [
       "      id release_date                                        movie  \\\n",
       "0      1   2009-12-18                                       Avatar   \n",
       "1      2   2011-05-20  Pirates of the Caribbean: On Stranger Tides   \n",
       "2      3   2019-06-07                                 Dark Phoenix   \n",
       "3      4   2015-05-01                      Avengers: Age of Ultron   \n",
       "4      5   2017-12-15            Star Wars Ep. VIII: The Last Jedi   \n",
       "...   ..          ...                                          ...   \n",
       "5777  78   2018-12-31                                       Red 11   \n",
       "5778  79   1999-04-02                                    Following   \n",
       "5779  80   2005-07-13                Return to the Land of Wonders   \n",
       "5780  81   2015-09-29                         A Plague So Pleasant   \n",
       "5781  82   2005-08-05                            My Date With Drew   \n",
       "\n",
       "      production_budget  domestic_gross  worldwide_gross  \\\n",
       "0           425000000.0     760507625.0     2.776345e+09   \n",
       "1           410600000.0     241063875.0     1.045664e+09   \n",
       "2           350000000.0      42762350.0     1.497624e+08   \n",
       "3           330600000.0     459005868.0     1.403014e+09   \n",
       "4           317000000.0     620181382.0     1.316722e+09   \n",
       "...                 ...             ...              ...   \n",
       "5777             7000.0             0.0     0.000000e+00   \n",
       "5778             6000.0         48482.0     2.404950e+05   \n",
       "5779             5000.0          1338.0     1.338000e+03   \n",
       "5780             1400.0             0.0     0.000000e+00   \n",
       "5781             1100.0        181041.0     1.810410e+05   \n",
       "\n",
       "                     total_gross  \n",
       "0     $2,776,345,279$760,507,625  \n",
       "1     $1,045,663,875$241,063,875  \n",
       "2        $149,762,350$42,762,350  \n",
       "3     $1,403,013,963$459,005,868  \n",
       "4     $1,316,721,747$620,181,382  \n",
       "...                          ...  \n",
       "5777                        $0$0  \n",
       "5778             $240,495$48,482  \n",
       "5779                $1,338$1,338  \n",
       "5780                        $0$0  \n",
       "5781            $181,041$181,041  \n",
       "\n",
       "[5782 rows x 7 columns]"
      ]
     },
     "execution_count": 148,
     "metadata": {},
     "output_type": "execute_result"
    }
   ],
   "source": [
    "movie_budgets.to_csv('clean_movie_budgets.csv', index=False)\n",
    "clean_movie_budgets = pd.read_csv('clean_movie_budgets.csv')\n",
    "clean_movie_budgets"
   ]
  },
  {
   "cell_type": "code",
   "execution_count": 149,
   "metadata": {},
   "outputs": [],
   "source": [
    "movie_info['box_office'] = movie_info['box_office'].str.replace(',', '').astype(float)"
   ]
  },
  {
   "cell_type": "code",
   "execution_count": 154,
   "metadata": {},
   "outputs": [
    {
     "ename": "KeyError",
     "evalue": "\"['synopsis' 'writer' 'currency' 'director' 'dvd_date'] not found in axis\"",
     "output_type": "error",
     "traceback": [
      "\u001b[1;31m---------------------------------------------------------------------------\u001b[0m",
      "\u001b[1;31mKeyError\u001b[0m                                  Traceback (most recent call last)",
      "\u001b[1;32m<ipython-input-154-03958ae3ff56>\u001b[0m in \u001b[0;36m<module>\u001b[1;34m\u001b[0m\n\u001b[0;32m     10\u001b[0m \u001b[1;31m# Remove columns 'column1', 'column2', and 'column3' from the sorted DataFrame\u001b[0m\u001b[1;33m\u001b[0m\u001b[1;33m\u001b[0m\u001b[1;33m\u001b[0m\u001b[0m\n\u001b[0;32m     11\u001b[0m \u001b[0mcolumns_to_remove\u001b[0m \u001b[1;33m=\u001b[0m \u001b[1;33m[\u001b[0m\u001b[1;34m'synopsis'\u001b[0m\u001b[1;33m,\u001b[0m \u001b[1;34m'writer'\u001b[0m\u001b[1;33m,\u001b[0m \u001b[1;34m'currency'\u001b[0m\u001b[1;33m,\u001b[0m \u001b[1;34m'director'\u001b[0m\u001b[1;33m,\u001b[0m \u001b[1;34m'dvd_date'\u001b[0m\u001b[1;33m]\u001b[0m\u001b[1;33m\u001b[0m\u001b[1;33m\u001b[0m\u001b[0m\n\u001b[1;32m---> 12\u001b[1;33m \u001b[0mmovie_info_sorted\u001b[0m\u001b[1;33m.\u001b[0m\u001b[0mdrop\u001b[0m\u001b[1;33m(\u001b[0m\u001b[0mcolumns\u001b[0m\u001b[1;33m=\u001b[0m\u001b[0mcolumns_to_remove\u001b[0m\u001b[1;33m,\u001b[0m \u001b[0minplace\u001b[0m\u001b[1;33m=\u001b[0m\u001b[1;32mTrue\u001b[0m\u001b[1;33m)\u001b[0m\u001b[1;33m\u001b[0m\u001b[1;33m\u001b[0m\u001b[0m\n\u001b[0m\u001b[0;32m     13\u001b[0m \u001b[1;33m\u001b[0m\u001b[0m\n\u001b[0;32m     14\u001b[0m \u001b[1;33m\u001b[0m\u001b[0m\n",
      "\u001b[1;32mc:\\Users\\HomePC\\anaconda3\\envs\\learn-env\\lib\\site-packages\\pandas\\core\\frame.py\u001b[0m in \u001b[0;36mdrop\u001b[1;34m(self, labels, axis, index, columns, level, inplace, errors)\u001b[0m\n\u001b[0;32m   4161\u001b[0m                 \u001b[0mweight\u001b[0m  \u001b[1;36m1.0\u001b[0m     \u001b[1;36m0.8\u001b[0m\u001b[1;33m\u001b[0m\u001b[1;33m\u001b[0m\u001b[0m\n\u001b[0;32m   4162\u001b[0m         \"\"\"\n\u001b[1;32m-> 4163\u001b[1;33m         return super().drop(\n\u001b[0m\u001b[0;32m   4164\u001b[0m             \u001b[0mlabels\u001b[0m\u001b[1;33m=\u001b[0m\u001b[0mlabels\u001b[0m\u001b[1;33m,\u001b[0m\u001b[1;33m\u001b[0m\u001b[1;33m\u001b[0m\u001b[0m\n\u001b[0;32m   4165\u001b[0m             \u001b[0maxis\u001b[0m\u001b[1;33m=\u001b[0m\u001b[0maxis\u001b[0m\u001b[1;33m,\u001b[0m\u001b[1;33m\u001b[0m\u001b[1;33m\u001b[0m\u001b[0m\n",
      "\u001b[1;32mc:\\Users\\HomePC\\anaconda3\\envs\\learn-env\\lib\\site-packages\\pandas\\core\\generic.py\u001b[0m in \u001b[0;36mdrop\u001b[1;34m(self, labels, axis, index, columns, level, inplace, errors)\u001b[0m\n\u001b[0;32m   3885\u001b[0m         \u001b[1;32mfor\u001b[0m \u001b[0maxis\u001b[0m\u001b[1;33m,\u001b[0m \u001b[0mlabels\u001b[0m \u001b[1;32min\u001b[0m \u001b[0maxes\u001b[0m\u001b[1;33m.\u001b[0m\u001b[0mitems\u001b[0m\u001b[1;33m(\u001b[0m\u001b[1;33m)\u001b[0m\u001b[1;33m:\u001b[0m\u001b[1;33m\u001b[0m\u001b[1;33m\u001b[0m\u001b[0m\n\u001b[0;32m   3886\u001b[0m             \u001b[1;32mif\u001b[0m \u001b[0mlabels\u001b[0m \u001b[1;32mis\u001b[0m \u001b[1;32mnot\u001b[0m \u001b[1;32mNone\u001b[0m\u001b[1;33m:\u001b[0m\u001b[1;33m\u001b[0m\u001b[1;33m\u001b[0m\u001b[0m\n\u001b[1;32m-> 3887\u001b[1;33m                 \u001b[0mobj\u001b[0m \u001b[1;33m=\u001b[0m \u001b[0mobj\u001b[0m\u001b[1;33m.\u001b[0m\u001b[0m_drop_axis\u001b[0m\u001b[1;33m(\u001b[0m\u001b[0mlabels\u001b[0m\u001b[1;33m,\u001b[0m \u001b[0maxis\u001b[0m\u001b[1;33m,\u001b[0m \u001b[0mlevel\u001b[0m\u001b[1;33m=\u001b[0m\u001b[0mlevel\u001b[0m\u001b[1;33m,\u001b[0m \u001b[0merrors\u001b[0m\u001b[1;33m=\u001b[0m\u001b[0merrors\u001b[0m\u001b[1;33m)\u001b[0m\u001b[1;33m\u001b[0m\u001b[1;33m\u001b[0m\u001b[0m\n\u001b[0m\u001b[0;32m   3888\u001b[0m \u001b[1;33m\u001b[0m\u001b[0m\n\u001b[0;32m   3889\u001b[0m         \u001b[1;32mif\u001b[0m \u001b[0minplace\u001b[0m\u001b[1;33m:\u001b[0m\u001b[1;33m\u001b[0m\u001b[1;33m\u001b[0m\u001b[0m\n",
      "\u001b[1;32mc:\\Users\\HomePC\\anaconda3\\envs\\learn-env\\lib\\site-packages\\pandas\\core\\generic.py\u001b[0m in \u001b[0;36m_drop_axis\u001b[1;34m(self, labels, axis, level, errors)\u001b[0m\n\u001b[0;32m   3919\u001b[0m                 \u001b[0mnew_axis\u001b[0m \u001b[1;33m=\u001b[0m \u001b[0maxis\u001b[0m\u001b[1;33m.\u001b[0m\u001b[0mdrop\u001b[0m\u001b[1;33m(\u001b[0m\u001b[0mlabels\u001b[0m\u001b[1;33m,\u001b[0m \u001b[0mlevel\u001b[0m\u001b[1;33m=\u001b[0m\u001b[0mlevel\u001b[0m\u001b[1;33m,\u001b[0m \u001b[0merrors\u001b[0m\u001b[1;33m=\u001b[0m\u001b[0merrors\u001b[0m\u001b[1;33m)\u001b[0m\u001b[1;33m\u001b[0m\u001b[1;33m\u001b[0m\u001b[0m\n\u001b[0;32m   3920\u001b[0m             \u001b[1;32melse\u001b[0m\u001b[1;33m:\u001b[0m\u001b[1;33m\u001b[0m\u001b[1;33m\u001b[0m\u001b[0m\n\u001b[1;32m-> 3921\u001b[1;33m                 \u001b[0mnew_axis\u001b[0m \u001b[1;33m=\u001b[0m \u001b[0maxis\u001b[0m\u001b[1;33m.\u001b[0m\u001b[0mdrop\u001b[0m\u001b[1;33m(\u001b[0m\u001b[0mlabels\u001b[0m\u001b[1;33m,\u001b[0m \u001b[0merrors\u001b[0m\u001b[1;33m=\u001b[0m\u001b[0merrors\u001b[0m\u001b[1;33m)\u001b[0m\u001b[1;33m\u001b[0m\u001b[1;33m\u001b[0m\u001b[0m\n\u001b[0m\u001b[0;32m   3922\u001b[0m             \u001b[0mresult\u001b[0m \u001b[1;33m=\u001b[0m \u001b[0mself\u001b[0m\u001b[1;33m.\u001b[0m\u001b[0mreindex\u001b[0m\u001b[1;33m(\u001b[0m\u001b[1;33m**\u001b[0m\u001b[1;33m{\u001b[0m\u001b[0maxis_name\u001b[0m\u001b[1;33m:\u001b[0m \u001b[0mnew_axis\u001b[0m\u001b[1;33m}\u001b[0m\u001b[1;33m)\u001b[0m\u001b[1;33m\u001b[0m\u001b[1;33m\u001b[0m\u001b[0m\n\u001b[0;32m   3923\u001b[0m \u001b[1;33m\u001b[0m\u001b[0m\n",
      "\u001b[1;32mc:\\Users\\HomePC\\anaconda3\\envs\\learn-env\\lib\\site-packages\\pandas\\core\\indexes\\base.py\u001b[0m in \u001b[0;36mdrop\u001b[1;34m(self, labels, errors)\u001b[0m\n\u001b[0;32m   5280\u001b[0m         \u001b[1;32mif\u001b[0m \u001b[0mmask\u001b[0m\u001b[1;33m.\u001b[0m\u001b[0many\u001b[0m\u001b[1;33m(\u001b[0m\u001b[1;33m)\u001b[0m\u001b[1;33m:\u001b[0m\u001b[1;33m\u001b[0m\u001b[1;33m\u001b[0m\u001b[0m\n\u001b[0;32m   5281\u001b[0m             \u001b[1;32mif\u001b[0m \u001b[0merrors\u001b[0m \u001b[1;33m!=\u001b[0m \u001b[1;34m\"ignore\"\u001b[0m\u001b[1;33m:\u001b[0m\u001b[1;33m\u001b[0m\u001b[1;33m\u001b[0m\u001b[0m\n\u001b[1;32m-> 5282\u001b[1;33m                 \u001b[1;32mraise\u001b[0m \u001b[0mKeyError\u001b[0m\u001b[1;33m(\u001b[0m\u001b[1;34mf\"{labels[mask]} not found in axis\"\u001b[0m\u001b[1;33m)\u001b[0m\u001b[1;33m\u001b[0m\u001b[1;33m\u001b[0m\u001b[0m\n\u001b[0m\u001b[0;32m   5283\u001b[0m             \u001b[0mindexer\u001b[0m \u001b[1;33m=\u001b[0m \u001b[0mindexer\u001b[0m\u001b[1;33m[\u001b[0m\u001b[1;33m~\u001b[0m\u001b[0mmask\u001b[0m\u001b[1;33m]\u001b[0m\u001b[1;33m\u001b[0m\u001b[1;33m\u001b[0m\u001b[0m\n\u001b[0;32m   5284\u001b[0m         \u001b[1;32mreturn\u001b[0m \u001b[0mself\u001b[0m\u001b[1;33m.\u001b[0m\u001b[0mdelete\u001b[0m\u001b[1;33m(\u001b[0m\u001b[0mindexer\u001b[0m\u001b[1;33m)\u001b[0m\u001b[1;33m\u001b[0m\u001b[1;33m\u001b[0m\u001b[0m\n",
      "\u001b[1;31mKeyError\u001b[0m: \"['synopsis' 'writer' 'currency' 'director' 'dvd_date'] not found in axis\""
     ]
    }
   ],
   "source": [
    "\n",
    "# Suppose you want to order the DataFrame based on the column 'column_to_sort' from highest to lowest\n",
    "# You also want to remove columns 'column1', 'column2', and 'column3'\n",
    "\n",
    "# Order the DataFrame based on 'column_to_sort' from highest to lowest\n",
    "movie_info_sorted = movie_info.sort_values(by='box_office', ascending=False)\n",
    "\n",
    "\n",
    "\n",
    "# Now df_sorted contains the DataFrame sorted by 'column_to_sort' from highest to lowest, with columns 'column1', 'column2', and 'column3' removed\n",
    "# Remove columns 'column1', 'column2', and 'column3' from the sorted DataFrame\n",
    "columns_to_remove = ['synopsis', 'writer', 'currency', 'director', 'dvd_date']\n",
    "movie_info_sorted.drop(columns=columns_to_remove, inplace=True)\n",
    "\n",
    "movie_info = movie_info_sorted\n",
    "print(movie_info)\n",
    "\n"
   ]
  },
  {
   "cell_type": "code",
   "execution_count": 156,
   "metadata": {},
   "outputs": [
    {
     "name": "stdout",
     "output_type": "stream",
     "text": [
      "id                int64\n",
      "rating           object\n",
      "genre            object\n",
      "theater_date     object\n",
      "box_office      float64\n",
      "runtime         float64\n",
      "studio           object\n",
      "dtype: object\n"
     ]
    }
   ],
   "source": [
    "\n",
    "# movie_info['runtime'] = movie_info['runtime'].str.replace('minutes', '').astype(float)\n",
    "# movie_info['box_office'] = movie_info['box_office'].str.replace('$', '').str.replace(',', '').astype(float)\n",
    "# Check the data types of all columns in the DataFrame\n",
    "print(movie_info.dtypes)\n"
   ]
  },
  {
   "cell_type": "code",
   "execution_count": 151,
   "metadata": {},
   "outputs": [
    {
     "data": {
      "text/html": [
       "<div>\n",
       "<style scoped>\n",
       "    .dataframe tbody tr th:only-of-type {\n",
       "        vertical-align: middle;\n",
       "    }\n",
       "\n",
       "    .dataframe tbody tr th {\n",
       "        vertical-align: top;\n",
       "    }\n",
       "\n",
       "    .dataframe thead th {\n",
       "        text-align: right;\n",
       "    }\n",
       "</style>\n",
       "<table border=\"1\" class=\"dataframe\">\n",
       "  <thead>\n",
       "    <tr style=\"text-align: right;\">\n",
       "      <th></th>\n",
       "      <th>id</th>\n",
       "      <th>rating</th>\n",
       "      <th>genre</th>\n",
       "      <th>theater_date</th>\n",
       "      <th>box_office</th>\n",
       "      <th>runtime</th>\n",
       "      <th>studio</th>\n",
       "    </tr>\n",
       "  </thead>\n",
       "  <tbody>\n",
       "    <tr>\n",
       "      <th>0</th>\n",
       "      <td>1071</td>\n",
       "      <td>R</td>\n",
       "      <td>Drama</td>\n",
       "      <td>Feb 25, 2004</td>\n",
       "      <td>368000000.0</td>\n",
       "      <td>127 minutes</td>\n",
       "      <td>Newmarket Film Group</td>\n",
       "    </tr>\n",
       "    <tr>\n",
       "      <th>1</th>\n",
       "      <td>1136</td>\n",
       "      <td>PG-13</td>\n",
       "      <td>Action and Adventure|Science Fiction and Fantasy</td>\n",
       "      <td>Dec 14, 2012</td>\n",
       "      <td>303001229.0</td>\n",
       "      <td>170 minutes</td>\n",
       "      <td>Warner Bros.</td>\n",
       "    </tr>\n",
       "    <tr>\n",
       "      <th>2</th>\n",
       "      <td>1525</td>\n",
       "      <td>PG-13</td>\n",
       "      <td>Action and Adventure|Mystery and Suspense</td>\n",
       "      <td>Nov 9, 2012</td>\n",
       "      <td>299300000.0</td>\n",
       "      <td>145 minutes</td>\n",
       "      <td>MGM</td>\n",
       "    </tr>\n",
       "    <tr>\n",
       "      <th>3</th>\n",
       "      <td>883</td>\n",
       "      <td>PG-13</td>\n",
       "      <td>Comedy</td>\n",
       "      <td>Dec 22, 2004</td>\n",
       "      <td>279167575.0</td>\n",
       "      <td>118 minutes</td>\n",
       "      <td>Universal Pictures</td>\n",
       "    </tr>\n",
       "    <tr>\n",
       "      <th>4</th>\n",
       "      <td>1442</td>\n",
       "      <td>PG</td>\n",
       "      <td>Kids and Family|Science Fiction and Fantasy</td>\n",
       "      <td>Nov 15, 2002</td>\n",
       "      <td>261835892.0</td>\n",
       "      <td>161 minutes</td>\n",
       "      <td>Warner Bros. Pictures</td>\n",
       "    </tr>\n",
       "    <tr>\n",
       "      <th>...</th>\n",
       "      <td>...</td>\n",
       "      <td>...</td>\n",
       "      <td>...</td>\n",
       "      <td>...</td>\n",
       "      <td>...</td>\n",
       "      <td>...</td>\n",
       "      <td>...</td>\n",
       "    </tr>\n",
       "    <tr>\n",
       "      <th>1555</th>\n",
       "      <td>1995</td>\n",
       "      <td>PG-13</td>\n",
       "      <td>Action and Adventure|Comedy|Western</td>\n",
       "      <td>Jun 30, 1999</td>\n",
       "      <td>NaN</td>\n",
       "      <td>107 minutes</td>\n",
       "      <td>Warner Bros. Pictures</td>\n",
       "    </tr>\n",
       "    <tr>\n",
       "      <th>1556</th>\n",
       "      <td>1997</td>\n",
       "      <td>PG</td>\n",
       "      <td>Comedy|Science Fiction and Fantasy</td>\n",
       "      <td>Jul 23, 1993</td>\n",
       "      <td>NaN</td>\n",
       "      <td>88 minutes</td>\n",
       "      <td>Paramount Vantage</td>\n",
       "    </tr>\n",
       "    <tr>\n",
       "      <th>1557</th>\n",
       "      <td>1998</td>\n",
       "      <td>G</td>\n",
       "      <td>Classics|Comedy|Drama|Musical and Performing Arts</td>\n",
       "      <td>Jan 1, 1962</td>\n",
       "      <td>NaN</td>\n",
       "      <td>111 minutes</td>\n",
       "      <td>NaN</td>\n",
       "    </tr>\n",
       "    <tr>\n",
       "      <th>1558</th>\n",
       "      <td>1999</td>\n",
       "      <td>PG</td>\n",
       "      <td>Comedy|Drama|Kids and Family|Sports and Fitness</td>\n",
       "      <td>Apr 1, 1993</td>\n",
       "      <td>NaN</td>\n",
       "      <td>101 minutes</td>\n",
       "      <td>NaN</td>\n",
       "    </tr>\n",
       "    <tr>\n",
       "      <th>1559</th>\n",
       "      <td>2000</td>\n",
       "      <td>R</td>\n",
       "      <td>Action and Adventure|Art House and Internation...</td>\n",
       "      <td>Sep 27, 2001</td>\n",
       "      <td>NaN</td>\n",
       "      <td>94 minutes</td>\n",
       "      <td>Columbia Pictures</td>\n",
       "    </tr>\n",
       "  </tbody>\n",
       "</table>\n",
       "<p>1560 rows × 7 columns</p>\n",
       "</div>"
      ],
      "text/plain": [
       "        id rating                                              genre  \\\n",
       "0     1071      R                                              Drama   \n",
       "1     1136  PG-13   Action and Adventure|Science Fiction and Fantasy   \n",
       "2     1525  PG-13          Action and Adventure|Mystery and Suspense   \n",
       "3      883  PG-13                                             Comedy   \n",
       "4     1442     PG        Kids and Family|Science Fiction and Fantasy   \n",
       "...    ...    ...                                                ...   \n",
       "1555  1995  PG-13                Action and Adventure|Comedy|Western   \n",
       "1556  1997     PG                 Comedy|Science Fiction and Fantasy   \n",
       "1557  1998      G  Classics|Comedy|Drama|Musical and Performing Arts   \n",
       "1558  1999     PG    Comedy|Drama|Kids and Family|Sports and Fitness   \n",
       "1559  2000      R  Action and Adventure|Art House and Internation...   \n",
       "\n",
       "      theater_date   box_office      runtime                 studio  \n",
       "0     Feb 25, 2004  368000000.0  127 minutes   Newmarket Film Group  \n",
       "1     Dec 14, 2012  303001229.0  170 minutes           Warner Bros.  \n",
       "2      Nov 9, 2012  299300000.0  145 minutes                    MGM  \n",
       "3     Dec 22, 2004  279167575.0  118 minutes     Universal Pictures  \n",
       "4     Nov 15, 2002  261835892.0  161 minutes  Warner Bros. Pictures  \n",
       "...            ...          ...          ...                    ...  \n",
       "1555  Jun 30, 1999          NaN  107 minutes  Warner Bros. Pictures  \n",
       "1556  Jul 23, 1993          NaN   88 minutes      Paramount Vantage  \n",
       "1557   Jan 1, 1962          NaN  111 minutes                    NaN  \n",
       "1558   Apr 1, 1993          NaN  101 minutes                    NaN  \n",
       "1559  Sep 27, 2001          NaN   94 minutes      Columbia Pictures  \n",
       "\n",
       "[1560 rows x 7 columns]"
      ]
     },
     "execution_count": 151,
     "metadata": {},
     "output_type": "execute_result"
    }
   ],
   "source": [
    "movie_info.to_csv('clean_movie_budgets.csv', index=False)\n",
    "clean_movie_info = pd.read_csv('clean_movie_budgets.csv')\n",
    "clean_movie_info"
   ]
  },
  {
   "cell_type": "markdown",
   "metadata": {},
   "source": [
    "All files being used have been cleaned"
   ]
  },
  {
   "cell_type": "markdown",
   "metadata": {},
   "source": [
    "Data Analysis\n"
   ]
  },
  {
   "cell_type": "code",
   "execution_count": 158,
   "metadata": {},
   "outputs": [
    {
     "name": "stdout",
     "output_type": "stream",
     "text": [
      "0.21995170240736545\n"
     ]
    }
   ],
   "source": [
    "# Calculate Pearson correlation coefficient\n",
    "pearson_corr = movie_info['runtime'].corr(movie_info['box_office'])\n",
    "print (pearson_corr)\n"
   ]
  },
  {
   "cell_type": "code",
   "execution_count": 160,
   "metadata": {},
   "outputs": [
    {
     "name": "stdout",
     "output_type": "stream",
     "text": [
      "0.170218625644249\n"
     ]
    }
   ],
   "source": [
    "# Calculate Spearman rank correlation coefficient\n",
    "spearman_corr = movie_info['runtime'].corr(movie_info['box_office'], method='spearman')\n",
    "print (spearman_corr)\n"
   ]
  },
  {
   "cell_type": "markdown",
   "metadata": {},
   "source": [
    "Both correlations are positive but not strong and therefore we can no with confidence say that runtime positively affects correlation as the relationship is very weak."
   ]
  },
  {
   "cell_type": "code",
   "execution_count": null,
   "metadata": {},
   "outputs": [],
   "source": []
  },
  {
   "cell_type": "markdown",
   "metadata": {},
   "source": [
    "Visualization"
   ]
  },
  {
   "cell_type": "code",
   "execution_count": 162,
   "metadata": {},
   "outputs": [
    {
     "data": {
      "image/png": "[encoded data removed]",
      "text/plain": [
       "<Figure size 432x288 with 1 Axes>"
      ]
     },
     "metadata": {
      "needs_background": "light"
     },
     "output_type": "display_data"
    },
    {
     "data": {
      "image/png": "[encoded data removed]",
      "text/plain": [
       "<Figure size 432x288 with 1 Axes>"
      ]
     },
     "metadata": {
      "needs_background": "light"
     },
     "output_type": "display_data"
    }
   ],
   "source": [
    "# Plot Spearman correlation\n",
    "sns.scatterplot(x='runtime', y='box_office', data=movie_info)\n",
    "plt.title('Spearman Correlation')\n",
    "plt.xlabel('runtime')\n",
    "plt.ylabel('box Office')\n",
    "plt.show()\n",
    "\n",
    "# Plot Pearson correlation\n",
    "sns.scatterplot(x='runtime', y='box_office', data=movie_info)\n",
    "plt.title('Pearson Correlation')\n",
    "plt.xlabel('runtime')\n",
    "plt.ylabel('box Office')\n",
    "plt.show()\n"
   ]
  },
  {
   "cell_type": "code",
   "execution_count": null,
   "metadata": {},
   "outputs": [],
   "source": [
    "# Your code here - remember to use markdown cells for comments as well!"
   ]
  }
 ],
 "metadata": {
  "kernelspec": {
   "display_name": "Python (learn-env)",
   "language": "python",
   "name": "learn-env"
  },
  "language_info": {
   "codemirror_mode": {
    "name": "ipython",
    "version": 3
   },
   "file_extension": ".py",
   "mimetype": "text/x-python",
   "name": "python",
   "nbconvert_exporter": "python",
   "pygments_lexer": "ipython3",
   "version": "3.8.5"
  }
 },
 "nbformat": 4,
 "nbformat_minor": 2
}
